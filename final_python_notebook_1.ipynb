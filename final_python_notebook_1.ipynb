{
  "nbformat": 4,
  "nbformat_minor": 0,
  "metadata": {
    "colab": {
      "provenance": []
    },
    "kernelspec": {
      "name": "python3",
      "display_name": "Python 3"
    },
    "language_info": {
      "name": "python"
    }
  },
  "cells": [
    {
      "cell_type": "markdown",
      "source": [
        "# **Final Python NoteBook 1: Data Cleaning & Classification**\n",
        "\n"
      ],
      "metadata": {
        "id": "JLUeQYymzvLd"
      }
    },
    {
      "cell_type": "markdown",
      "source": [
        "Author: Nelith Nethsanda\n",
        "\n",
        "Uow ID:w2051741\n",
        "\n",
        "IIT ID:20230664\n",
        "\n",
        "Reviewed by: Sonal Pathinayaka\n",
        "\n",
        "Date of Review: 2nd of March 2025  \n",
        "\n",
        "Notebook Purpose: Cleaning, preprocessing, encoding, and splitting the SEER breast cancer dataset into classification and regression sets for mortality and survival months prediction."
      ],
      "metadata": {
        "id": "yg7YQOfWz-2U"
      }
    },
    {
      "cell_type": "code",
      "execution_count": 154,
      "metadata": {
        "id": "5LX90hJ1ZO4f"
      },
      "outputs": [],
      "source": [
        "import pandas as pd"
      ]
    },
    {
      "cell_type": "code",
      "source": [
        "import numpy as np\n",
        "import seaborn as sns\n",
        "from sklearn.model_selection import train_test_split\n",
        "from sklearn.preprocessing import LabelEncoder\n",
        "import matplotlib.pyplot as plt\n",
        "from sklearn.impute import SimpleImputer\n",
        "from sklearn.preprocessing import MinMaxScaler"
      ],
      "metadata": {
        "id": "DvlMCe5CZZ2k"
      },
      "execution_count": 155,
      "outputs": []
    },
    {
      "cell_type": "code",
      "source": [
        "data = pd.read_csv('/content/5DATA002W.2 Coursework Dataset(25012025v6.0) (2).csv')\n",
        "print(data.head())"
      ],
      "metadata": {
        "colab": {
          "base_uri": "https://localhost:8080/",
          "height": 0
        },
        "id": "ROLADPswZkFR",
        "outputId": "3124a19e-e796-46ed-9792-4e4e510e9024"
      },
      "execution_count": 156,
      "outputs": [
        {
          "output_type": "stream",
          "name": "stdout",
          "text": [
            "  Patient_ID  Month_of_Birth   Age     Sex   Occupation T_Stage N_Stage  \\\n",
            "0      A0012              12  68.0  Female     Teaching      T1      N1   \n",
            "1      A0013              12  50.0  Female      Medical      T2      N2   \n",
            "2      A0014              11  58.0  Female  Engineering      T3      N3   \n",
            "3      A0015               3  58.0  Female   Technology      T1      N1   \n",
            "4      A0016               1  47.0  Female   Multimedia      T2      N1   \n",
            "\n",
            "  6th_Stage             Differentiated  Grade   A_Stage  Tumor_Size  \\\n",
            "0       IIA      Poorly differentiated      3  Regional         4.0   \n",
            "1      IIIA  Moderately differentiated      2  Regional        35.0   \n",
            "2      IIIC  Moderately differentiated      2  Regional        63.0   \n",
            "3       IIA      Poorly differentiated      3  Regional        18.0   \n",
            "4       IIB      Poorly differentiated      3  Regional        41.0   \n",
            "\n",
            "  Estrogen_Status Progesterone_Status  Regional_Node_Examined  \\\n",
            "0        Positive            Positive                    24.0   \n",
            "1        Positive            Positive                    14.0   \n",
            "2        Positive            Positive                    14.0   \n",
            "3        Positive            Positive                     2.0   \n",
            "4        Positive            Positive                     3.0   \n",
            "\n",
            "   Reginol_Node_Positive  Survival_Months Mortality_Status  \n",
            "0                      1               60            Alive  \n",
            "1                      5               62            Alive  \n",
            "2                      7               75            Alive  \n",
            "3                      1               84            Alive  \n",
            "4                      1               50            Alive  \n"
          ]
        }
      ]
    },
    {
      "cell_type": "code",
      "source": [
        "data.isnull().sum()"
      ],
      "metadata": {
        "colab": {
          "base_uri": "https://localhost:8080/",
          "height": 648
        },
        "id": "WOID9RVy-ncD",
        "outputId": "5ab56bf3-4298-4340-e0df-f6944b50b435"
      },
      "execution_count": 157,
      "outputs": [
        {
          "output_type": "execute_result",
          "data": {
            "text/plain": [
              "Patient_ID                   0\n",
              "Month_of_Birth               0\n",
              "Age                          9\n",
              "Sex                          4\n",
              "Occupation                3981\n",
              "T_Stage                      0\n",
              "N_Stage                      0\n",
              "6th_Stage                    0\n",
              "Differentiated               0\n",
              "Grade                        0\n",
              "A_Stage                      0\n",
              "Tumor_Size                   3\n",
              "Estrogen_Status              0\n",
              "Progesterone_Status          0\n",
              "Regional_Node_Examined       1\n",
              "Reginol_Node_Positive        0\n",
              "Survival_Months              0\n",
              "Mortality_Status             0\n",
              "dtype: int64"
            ],
            "text/html": [
              "<div>\n",
              "<style scoped>\n",
              "    .dataframe tbody tr th:only-of-type {\n",
              "        vertical-align: middle;\n",
              "    }\n",
              "\n",
              "    .dataframe tbody tr th {\n",
              "        vertical-align: top;\n",
              "    }\n",
              "\n",
              "    .dataframe thead th {\n",
              "        text-align: right;\n",
              "    }\n",
              "</style>\n",
              "<table border=\"1\" class=\"dataframe\">\n",
              "  <thead>\n",
              "    <tr style=\"text-align: right;\">\n",
              "      <th></th>\n",
              "      <th>0</th>\n",
              "    </tr>\n",
              "  </thead>\n",
              "  <tbody>\n",
              "    <tr>\n",
              "      <th>Patient_ID</th>\n",
              "      <td>0</td>\n",
              "    </tr>\n",
              "    <tr>\n",
              "      <th>Month_of_Birth</th>\n",
              "      <td>0</td>\n",
              "    </tr>\n",
              "    <tr>\n",
              "      <th>Age</th>\n",
              "      <td>9</td>\n",
              "    </tr>\n",
              "    <tr>\n",
              "      <th>Sex</th>\n",
              "      <td>4</td>\n",
              "    </tr>\n",
              "    <tr>\n",
              "      <th>Occupation</th>\n",
              "      <td>3981</td>\n",
              "    </tr>\n",
              "    <tr>\n",
              "      <th>T_Stage</th>\n",
              "      <td>0</td>\n",
              "    </tr>\n",
              "    <tr>\n",
              "      <th>N_Stage</th>\n",
              "      <td>0</td>\n",
              "    </tr>\n",
              "    <tr>\n",
              "      <th>6th_Stage</th>\n",
              "      <td>0</td>\n",
              "    </tr>\n",
              "    <tr>\n",
              "      <th>Differentiated</th>\n",
              "      <td>0</td>\n",
              "    </tr>\n",
              "    <tr>\n",
              "      <th>Grade</th>\n",
              "      <td>0</td>\n",
              "    </tr>\n",
              "    <tr>\n",
              "      <th>A_Stage</th>\n",
              "      <td>0</td>\n",
              "    </tr>\n",
              "    <tr>\n",
              "      <th>Tumor_Size</th>\n",
              "      <td>3</td>\n",
              "    </tr>\n",
              "    <tr>\n",
              "      <th>Estrogen_Status</th>\n",
              "      <td>0</td>\n",
              "    </tr>\n",
              "    <tr>\n",
              "      <th>Progesterone_Status</th>\n",
              "      <td>0</td>\n",
              "    </tr>\n",
              "    <tr>\n",
              "      <th>Regional_Node_Examined</th>\n",
              "      <td>1</td>\n",
              "    </tr>\n",
              "    <tr>\n",
              "      <th>Reginol_Node_Positive</th>\n",
              "      <td>0</td>\n",
              "    </tr>\n",
              "    <tr>\n",
              "      <th>Survival_Months</th>\n",
              "      <td>0</td>\n",
              "    </tr>\n",
              "    <tr>\n",
              "      <th>Mortality_Status</th>\n",
              "      <td>0</td>\n",
              "    </tr>\n",
              "  </tbody>\n",
              "</table>\n",
              "</div><br><label><b>dtype:</b> int64</label>"
            ]
          },
          "metadata": {},
          "execution_count": 157
        }
      ]
    },
    {
      "cell_type": "code",
      "source": [
        "data.describe()"
      ],
      "metadata": {
        "colab": {
          "base_uri": "https://localhost:8080/",
          "height": 300
        },
        "id": "XT2TL27XoHpw",
        "outputId": "ca25dfaa-a171-4cd2-b8c5-f63e2fec6f76"
      },
      "execution_count": 158,
      "outputs": [
        {
          "output_type": "execute_result",
          "data": {
            "text/plain": [
              "       Month_of_Birth          Age        Grade   Tumor_Size  \\\n",
              "count     4024.000000  4015.000000  4024.000000  4021.000000   \n",
              "mean         6.481362    54.107098     2.150596    30.419299   \n",
              "std          3.475442    11.715528     0.638234    21.161080   \n",
              "min          1.000000   -50.000000     1.000000   -75.000000   \n",
              "25%          3.000000    47.000000     2.000000    16.000000   \n",
              "50%          6.000000    54.000000     2.000000    25.000000   \n",
              "75%         10.000000    61.000000     3.000000    38.000000   \n",
              "max         12.000000   502.000000     4.000000   140.000000   \n",
              "\n",
              "       Regional_Node_Examined  Reginol_Node_Positive  Survival_Months  \n",
              "count             4023.000000            4024.000000      4024.000000  \n",
              "mean                14.373602               4.158052        71.472167  \n",
              "std                  8.129293               5.109331        25.361855  \n",
              "min                  1.000000               1.000000         1.000000  \n",
              "25%                  9.000000               1.000000        56.000000  \n",
              "50%                 14.000000               2.000000        73.000000  \n",
              "75%                 19.000000               5.000000        90.000000  \n",
              "max                 61.000000              46.000000       760.000000  "
            ],
            "text/html": [
              "\n",
              "  <div id=\"df-a086c8bb-0e24-4477-bd26-b3cc153eb3e8\" class=\"colab-df-container\">\n",
              "    <div>\n",
              "<style scoped>\n",
              "    .dataframe tbody tr th:only-of-type {\n",
              "        vertical-align: middle;\n",
              "    }\n",
              "\n",
              "    .dataframe tbody tr th {\n",
              "        vertical-align: top;\n",
              "    }\n",
              "\n",
              "    .dataframe thead th {\n",
              "        text-align: right;\n",
              "    }\n",
              "</style>\n",
              "<table border=\"1\" class=\"dataframe\">\n",
              "  <thead>\n",
              "    <tr style=\"text-align: right;\">\n",
              "      <th></th>\n",
              "      <th>Month_of_Birth</th>\n",
              "      <th>Age</th>\n",
              "      <th>Grade</th>\n",
              "      <th>Tumor_Size</th>\n",
              "      <th>Regional_Node_Examined</th>\n",
              "      <th>Reginol_Node_Positive</th>\n",
              "      <th>Survival_Months</th>\n",
              "    </tr>\n",
              "  </thead>\n",
              "  <tbody>\n",
              "    <tr>\n",
              "      <th>count</th>\n",
              "      <td>4024.000000</td>\n",
              "      <td>4015.000000</td>\n",
              "      <td>4024.000000</td>\n",
              "      <td>4021.000000</td>\n",
              "      <td>4023.000000</td>\n",
              "      <td>4024.000000</td>\n",
              "      <td>4024.000000</td>\n",
              "    </tr>\n",
              "    <tr>\n",
              "      <th>mean</th>\n",
              "      <td>6.481362</td>\n",
              "      <td>54.107098</td>\n",
              "      <td>2.150596</td>\n",
              "      <td>30.419299</td>\n",
              "      <td>14.373602</td>\n",
              "      <td>4.158052</td>\n",
              "      <td>71.472167</td>\n",
              "    </tr>\n",
              "    <tr>\n",
              "      <th>std</th>\n",
              "      <td>3.475442</td>\n",
              "      <td>11.715528</td>\n",
              "      <td>0.638234</td>\n",
              "      <td>21.161080</td>\n",
              "      <td>8.129293</td>\n",
              "      <td>5.109331</td>\n",
              "      <td>25.361855</td>\n",
              "    </tr>\n",
              "    <tr>\n",
              "      <th>min</th>\n",
              "      <td>1.000000</td>\n",
              "      <td>-50.000000</td>\n",
              "      <td>1.000000</td>\n",
              "      <td>-75.000000</td>\n",
              "      <td>1.000000</td>\n",
              "      <td>1.000000</td>\n",
              "      <td>1.000000</td>\n",
              "    </tr>\n",
              "    <tr>\n",
              "      <th>25%</th>\n",
              "      <td>3.000000</td>\n",
              "      <td>47.000000</td>\n",
              "      <td>2.000000</td>\n",
              "      <td>16.000000</td>\n",
              "      <td>9.000000</td>\n",
              "      <td>1.000000</td>\n",
              "      <td>56.000000</td>\n",
              "    </tr>\n",
              "    <tr>\n",
              "      <th>50%</th>\n",
              "      <td>6.000000</td>\n",
              "      <td>54.000000</td>\n",
              "      <td>2.000000</td>\n",
              "      <td>25.000000</td>\n",
              "      <td>14.000000</td>\n",
              "      <td>2.000000</td>\n",
              "      <td>73.000000</td>\n",
              "    </tr>\n",
              "    <tr>\n",
              "      <th>75%</th>\n",
              "      <td>10.000000</td>\n",
              "      <td>61.000000</td>\n",
              "      <td>3.000000</td>\n",
              "      <td>38.000000</td>\n",
              "      <td>19.000000</td>\n",
              "      <td>5.000000</td>\n",
              "      <td>90.000000</td>\n",
              "    </tr>\n",
              "    <tr>\n",
              "      <th>max</th>\n",
              "      <td>12.000000</td>\n",
              "      <td>502.000000</td>\n",
              "      <td>4.000000</td>\n",
              "      <td>140.000000</td>\n",
              "      <td>61.000000</td>\n",
              "      <td>46.000000</td>\n",
              "      <td>760.000000</td>\n",
              "    </tr>\n",
              "  </tbody>\n",
              "</table>\n",
              "</div>\n",
              "    <div class=\"colab-df-buttons\">\n",
              "\n",
              "  <div class=\"colab-df-container\">\n",
              "    <button class=\"colab-df-convert\" onclick=\"convertToInteractive('df-a086c8bb-0e24-4477-bd26-b3cc153eb3e8')\"\n",
              "            title=\"Convert this dataframe to an interactive table.\"\n",
              "            style=\"display:none;\">\n",
              "\n",
              "  <svg xmlns=\"http://www.w3.org/2000/svg\" height=\"24px\" viewBox=\"0 -960 960 960\">\n",
              "    <path d=\"M120-120v-720h720v720H120Zm60-500h600v-160H180v160Zm220 220h160v-160H400v160Zm0 220h160v-160H400v160ZM180-400h160v-160H180v160Zm440 0h160v-160H620v160ZM180-180h160v-160H180v160Zm440 0h160v-160H620v160Z\"/>\n",
              "  </svg>\n",
              "    </button>\n",
              "\n",
              "  <style>\n",
              "    .colab-df-container {\n",
              "      display:flex;\n",
              "      gap: 12px;\n",
              "    }\n",
              "\n",
              "    .colab-df-convert {\n",
              "      background-color: #E8F0FE;\n",
              "      border: none;\n",
              "      border-radius: 50%;\n",
              "      cursor: pointer;\n",
              "      display: none;\n",
              "      fill: #1967D2;\n",
              "      height: 32px;\n",
              "      padding: 0 0 0 0;\n",
              "      width: 32px;\n",
              "    }\n",
              "\n",
              "    .colab-df-convert:hover {\n",
              "      background-color: #E2EBFA;\n",
              "      box-shadow: 0px 1px 2px rgba(60, 64, 67, 0.3), 0px 1px 3px 1px rgba(60, 64, 67, 0.15);\n",
              "      fill: #174EA6;\n",
              "    }\n",
              "\n",
              "    .colab-df-buttons div {\n",
              "      margin-bottom: 4px;\n",
              "    }\n",
              "\n",
              "    [theme=dark] .colab-df-convert {\n",
              "      background-color: #3B4455;\n",
              "      fill: #D2E3FC;\n",
              "    }\n",
              "\n",
              "    [theme=dark] .colab-df-convert:hover {\n",
              "      background-color: #434B5C;\n",
              "      box-shadow: 0px 1px 3px 1px rgba(0, 0, 0, 0.15);\n",
              "      filter: drop-shadow(0px 1px 2px rgba(0, 0, 0, 0.3));\n",
              "      fill: #FFFFFF;\n",
              "    }\n",
              "  </style>\n",
              "\n",
              "    <script>\n",
              "      const buttonEl =\n",
              "        document.querySelector('#df-a086c8bb-0e24-4477-bd26-b3cc153eb3e8 button.colab-df-convert');\n",
              "      buttonEl.style.display =\n",
              "        google.colab.kernel.accessAllowed ? 'block' : 'none';\n",
              "\n",
              "      async function convertToInteractive(key) {\n",
              "        const element = document.querySelector('#df-a086c8bb-0e24-4477-bd26-b3cc153eb3e8');\n",
              "        const dataTable =\n",
              "          await google.colab.kernel.invokeFunction('convertToInteractive',\n",
              "                                                    [key], {});\n",
              "        if (!dataTable) return;\n",
              "\n",
              "        const docLinkHtml = 'Like what you see? Visit the ' +\n",
              "          '<a target=\"_blank\" href=https://colab.research.google.com/notebooks/data_table.ipynb>data table notebook</a>'\n",
              "          + ' to learn more about interactive tables.';\n",
              "        element.innerHTML = '';\n",
              "        dataTable['output_type'] = 'display_data';\n",
              "        await google.colab.output.renderOutput(dataTable, element);\n",
              "        const docLink = document.createElement('div');\n",
              "        docLink.innerHTML = docLinkHtml;\n",
              "        element.appendChild(docLink);\n",
              "      }\n",
              "    </script>\n",
              "  </div>\n",
              "\n",
              "\n",
              "    <div id=\"df-92e7cbbe-7fa5-41d7-bdc1-80c1a149f683\">\n",
              "      <button class=\"colab-df-quickchart\" onclick=\"quickchart('df-92e7cbbe-7fa5-41d7-bdc1-80c1a149f683')\"\n",
              "                title=\"Suggest charts\"\n",
              "                style=\"display:none;\">\n",
              "\n",
              "<svg xmlns=\"http://www.w3.org/2000/svg\" height=\"24px\"viewBox=\"0 0 24 24\"\n",
              "     width=\"24px\">\n",
              "    <g>\n",
              "        <path d=\"M19 3H5c-1.1 0-2 .9-2 2v14c0 1.1.9 2 2 2h14c1.1 0 2-.9 2-2V5c0-1.1-.9-2-2-2zM9 17H7v-7h2v7zm4 0h-2V7h2v10zm4 0h-2v-4h2v4z\"/>\n",
              "    </g>\n",
              "</svg>\n",
              "      </button>\n",
              "\n",
              "<style>\n",
              "  .colab-df-quickchart {\n",
              "      --bg-color: #E8F0FE;\n",
              "      --fill-color: #1967D2;\n",
              "      --hover-bg-color: #E2EBFA;\n",
              "      --hover-fill-color: #174EA6;\n",
              "      --disabled-fill-color: #AAA;\n",
              "      --disabled-bg-color: #DDD;\n",
              "  }\n",
              "\n",
              "  [theme=dark] .colab-df-quickchart {\n",
              "      --bg-color: #3B4455;\n",
              "      --fill-color: #D2E3FC;\n",
              "      --hover-bg-color: #434B5C;\n",
              "      --hover-fill-color: #FFFFFF;\n",
              "      --disabled-bg-color: #3B4455;\n",
              "      --disabled-fill-color: #666;\n",
              "  }\n",
              "\n",
              "  .colab-df-quickchart {\n",
              "    background-color: var(--bg-color);\n",
              "    border: none;\n",
              "    border-radius: 50%;\n",
              "    cursor: pointer;\n",
              "    display: none;\n",
              "    fill: var(--fill-color);\n",
              "    height: 32px;\n",
              "    padding: 0;\n",
              "    width: 32px;\n",
              "  }\n",
              "\n",
              "  .colab-df-quickchart:hover {\n",
              "    background-color: var(--hover-bg-color);\n",
              "    box-shadow: 0 1px 2px rgba(60, 64, 67, 0.3), 0 1px 3px 1px rgba(60, 64, 67, 0.15);\n",
              "    fill: var(--button-hover-fill-color);\n",
              "  }\n",
              "\n",
              "  .colab-df-quickchart-complete:disabled,\n",
              "  .colab-df-quickchart-complete:disabled:hover {\n",
              "    background-color: var(--disabled-bg-color);\n",
              "    fill: var(--disabled-fill-color);\n",
              "    box-shadow: none;\n",
              "  }\n",
              "\n",
              "  .colab-df-spinner {\n",
              "    border: 2px solid var(--fill-color);\n",
              "    border-color: transparent;\n",
              "    border-bottom-color: var(--fill-color);\n",
              "    animation:\n",
              "      spin 1s steps(1) infinite;\n",
              "  }\n",
              "\n",
              "  @keyframes spin {\n",
              "    0% {\n",
              "      border-color: transparent;\n",
              "      border-bottom-color: var(--fill-color);\n",
              "      border-left-color: var(--fill-color);\n",
              "    }\n",
              "    20% {\n",
              "      border-color: transparent;\n",
              "      border-left-color: var(--fill-color);\n",
              "      border-top-color: var(--fill-color);\n",
              "    }\n",
              "    30% {\n",
              "      border-color: transparent;\n",
              "      border-left-color: var(--fill-color);\n",
              "      border-top-color: var(--fill-color);\n",
              "      border-right-color: var(--fill-color);\n",
              "    }\n",
              "    40% {\n",
              "      border-color: transparent;\n",
              "      border-right-color: var(--fill-color);\n",
              "      border-top-color: var(--fill-color);\n",
              "    }\n",
              "    60% {\n",
              "      border-color: transparent;\n",
              "      border-right-color: var(--fill-color);\n",
              "    }\n",
              "    80% {\n",
              "      border-color: transparent;\n",
              "      border-right-color: var(--fill-color);\n",
              "      border-bottom-color: var(--fill-color);\n",
              "    }\n",
              "    90% {\n",
              "      border-color: transparent;\n",
              "      border-bottom-color: var(--fill-color);\n",
              "    }\n",
              "  }\n",
              "</style>\n",
              "\n",
              "      <script>\n",
              "        async function quickchart(key) {\n",
              "          const quickchartButtonEl =\n",
              "            document.querySelector('#' + key + ' button');\n",
              "          quickchartButtonEl.disabled = true;  // To prevent multiple clicks.\n",
              "          quickchartButtonEl.classList.add('colab-df-spinner');\n",
              "          try {\n",
              "            const charts = await google.colab.kernel.invokeFunction(\n",
              "                'suggestCharts', [key], {});\n",
              "          } catch (error) {\n",
              "            console.error('Error during call to suggestCharts:', error);\n",
              "          }\n",
              "          quickchartButtonEl.classList.remove('colab-df-spinner');\n",
              "          quickchartButtonEl.classList.add('colab-df-quickchart-complete');\n",
              "        }\n",
              "        (() => {\n",
              "          let quickchartButtonEl =\n",
              "            document.querySelector('#df-92e7cbbe-7fa5-41d7-bdc1-80c1a149f683 button');\n",
              "          quickchartButtonEl.style.display =\n",
              "            google.colab.kernel.accessAllowed ? 'block' : 'none';\n",
              "        })();\n",
              "      </script>\n",
              "    </div>\n",
              "\n",
              "    </div>\n",
              "  </div>\n"
            ],
            "application/vnd.google.colaboratory.intrinsic+json": {
              "type": "dataframe",
              "summary": "{\n  \"name\": \"data\",\n  \"rows\": 8,\n  \"fields\": [\n    {\n      \"column\": \"Month_of_Birth\",\n      \"properties\": {\n        \"dtype\": \"number\",\n        \"std\": 1420.5843614155217,\n        \"min\": 1.0,\n        \"max\": 4024.0,\n        \"num_unique_values\": 8,\n        \"samples\": [\n          6.481361829025845,\n          6.0,\n          4024.0\n        ],\n        \"semantic_type\": \"\",\n        \"description\": \"\"\n      }\n    },\n    {\n      \"column\": \"Age\",\n      \"properties\": {\n        \"dtype\": \"number\",\n        \"std\": 1395.4758479200066,\n        \"min\": -50.0,\n        \"max\": 4015.0,\n        \"num_unique_values\": 8,\n        \"samples\": [\n          54.10709838107098,\n          54.0,\n          4015.0\n        ],\n        \"semantic_type\": \"\",\n        \"description\": \"\"\n      }\n    },\n    {\n      \"column\": \"Grade\",\n      \"properties\": {\n        \"dtype\": \"number\",\n        \"std\": 1421.952286244199,\n        \"min\": 0.6382338311415823,\n        \"max\": 4024.0,\n        \"num_unique_values\": 7,\n        \"samples\": [\n          4024.0,\n          2.150596421471173,\n          3.0\n        ],\n        \"semantic_type\": \"\",\n        \"description\": \"\"\n      }\n    },\n    {\n      \"column\": \"Tumor_Size\",\n      \"properties\": {\n        \"dtype\": \"number\",\n        \"std\": 1412.9462816474029,\n        \"min\": -75.0,\n        \"max\": 4021.0,\n        \"num_unique_values\": 8,\n        \"samples\": [\n          30.41929868191992,\n          25.0,\n          4021.0\n        ],\n        \"semantic_type\": \"\",\n        \"description\": \"\"\n      }\n    },\n    {\n      \"column\": \"Regional_Node_Examined\",\n      \"properties\": {\n        \"dtype\": \"number\",\n        \"std\": 1416.074296977853,\n        \"min\": 1.0,\n        \"max\": 4023.0,\n        \"num_unique_values\": 8,\n        \"samples\": [\n          14.373601789709172,\n          14.0,\n          4023.0\n        ],\n        \"semantic_type\": \"\",\n        \"description\": \"\"\n      }\n    },\n    {\n      \"column\": \"Reginol_Node_Positive\",\n      \"properties\": {\n        \"dtype\": \"number\",\n        \"std\": 1419.5333800980586,\n        \"min\": 1.0,\n        \"max\": 4024.0,\n        \"num_unique_values\": 7,\n        \"samples\": [\n          4024.0,\n          4.158051689860835,\n          5.0\n        ],\n        \"semantic_type\": \"\",\n        \"description\": \"\"\n      }\n    },\n    {\n      \"column\": \"Survival_Months\",\n      \"properties\": {\n        \"dtype\": \"number\",\n        \"std\": 1390.795251925918,\n        \"min\": 1.0,\n        \"max\": 4024.0,\n        \"num_unique_values\": 8,\n        \"samples\": [\n          71.47216699801193,\n          73.0,\n          4024.0\n        ],\n        \"semantic_type\": \"\",\n        \"description\": \"\"\n      }\n    }\n  ]\n}"
            }
          },
          "metadata": {},
          "execution_count": 158
        }
      ]
    },
    {
      "cell_type": "code",
      "source": [
        "print(\"Missing values in Tumor_Size:\", data['Tumor_Size'].isnull().sum())\n",
        "print(data['Tumor_Size'].describe())"
      ],
      "metadata": {
        "colab": {
          "base_uri": "https://localhost:8080/",
          "height": 0
        },
        "id": "oT8s7bk7rlTI",
        "outputId": "8fd57b5a-abbc-4511-d998-0eb127faee8b"
      },
      "execution_count": 159,
      "outputs": [
        {
          "output_type": "stream",
          "name": "stdout",
          "text": [
            "Missing values in Tumor_Size: 3\n",
            "count    4021.000000\n",
            "mean       30.419299\n",
            "std        21.161080\n",
            "min       -75.000000\n",
            "25%        16.000000\n",
            "50%        25.000000\n",
            "75%        38.000000\n",
            "max       140.000000\n",
            "Name: Tumor_Size, dtype: float64\n"
          ]
        }
      ]
    },
    {
      "cell_type": "code",
      "source": [
        "# Replace negatives with NaN and fill with median\n",
        "data['Tumor_Size'] = data['Tumor_Size'].apply(lambda x: x if x >= 0 else np.nan)\n",
        "data['Tumor_Size'] = data['Tumor_Size'].fillna(data['Tumor_Size'].median())"
      ],
      "metadata": {
        "id": "Ge2zaBtNsN7R"
      },
      "execution_count": 160,
      "outputs": []
    },
    {
      "cell_type": "code",
      "source": [
        "# Check summary and outliers after cleaning\n",
        "print(\"Missing values in Tumor_Size (after):\", data['Tumor_Size'].isnull().sum())\n",
        "print(data['Tumor_Size'].describe())"
      ],
      "metadata": {
        "id": "xWABR6KNsS0z",
        "outputId": "f9917b20-7ffd-4e0d-aa35-21980e8309ca",
        "colab": {
          "base_uri": "https://localhost:8080/",
          "height": 0
        }
      },
      "execution_count": 161,
      "outputs": [
        {
          "output_type": "stream",
          "name": "stdout",
          "text": [
            "Missing values in Tumor_Size (after): 0\n",
            "count    4024.000000\n",
            "mean       30.440109\n",
            "std        21.088474\n",
            "min         1.000000\n",
            "25%        16.000000\n",
            "50%        25.000000\n",
            "75%        38.000000\n",
            "max       140.000000\n",
            "Name: Tumor_Size, dtype: float64\n"
          ]
        }
      ]
    },
    {
      "cell_type": "code",
      "source": [
        "# Check for missing values in Age before fix\n",
        "print(\"Missing values in Age:\", data['Age'].isnull().sum())\n",
        "\n",
        "# Check min, max, and negative values before fix\n",
        "print(data['Age'].describe())\n"
      ],
      "metadata": {
        "id": "jLph4iOY0mHm",
        "colab": {
          "base_uri": "https://localhost:8080/",
          "height": 0
        },
        "outputId": "dc0672bb-c3eb-4744-d989-e97249278e69"
      },
      "execution_count": 162,
      "outputs": [
        {
          "output_type": "stream",
          "name": "stdout",
          "text": [
            "Missing values in Age: 9\n",
            "count    4015.000000\n",
            "mean       54.107098\n",
            "std        11.715528\n",
            "min       -50.000000\n",
            "25%        47.000000\n",
            "50%        54.000000\n",
            "75%        61.000000\n",
            "max       502.000000\n",
            "Name: Age, dtype: float64\n"
          ]
        }
      ]
    },
    {
      "cell_type": "code",
      "source": [
        "# Replace negative ages with NaN and impute with median\n",
        "data['Age'] = data['Age'].apply(lambda x: x if x >= 0 else np.nan)\n",
        "data['Age'] = data['Age'].fillna(data['Age'].median())\n"
      ],
      "metadata": {
        "id": "1craJPPqp7jb"
      },
      "execution_count": 163,
      "outputs": []
    },
    {
      "cell_type": "code",
      "source": [
        "# Confirm missing and negative values fixed\n",
        "print(\"Missing values in Age (after):\", data['Age'].isnull().sum())\n",
        "print(data['Age'].describe())\n"
      ],
      "metadata": {
        "colab": {
          "base_uri": "https://localhost:8080/",
          "height": 0
        },
        "id": "LXhG1sPxqAPv",
        "outputId": "b94c9a04-6003-4382-f26d-4af9341dd720"
      },
      "execution_count": 164,
      "outputs": [
        {
          "output_type": "stream",
          "name": "stdout",
          "text": [
            "Missing values in Age (after): 0\n",
            "count    4024.000000\n",
            "mean       54.132704\n",
            "std        11.586709\n",
            "min        30.000000\n",
            "25%        47.000000\n",
            "50%        54.000000\n",
            "75%        61.000000\n",
            "max       502.000000\n",
            "Name: Age, dtype: float64\n"
          ]
        }
      ]
    },
    {
      "cell_type": "code",
      "source": [
        "# Check for missing and negative values, outliers in Regional_Node_Examined\n",
        "print(\"Missing values in Regional_Node_Examined:\", data['Regional_Node_Examined'].isnull().sum())\n",
        "print(data['Regional_Node_Examined'].describe())"
      ],
      "metadata": {
        "colab": {
          "base_uri": "https://localhost:8080/",
          "height": 0
        },
        "id": "Wpq5zP9ItnuZ",
        "outputId": "a702506f-4efe-4c7d-9ffa-7061ad85d4f0"
      },
      "execution_count": 165,
      "outputs": [
        {
          "output_type": "stream",
          "name": "stdout",
          "text": [
            "Missing values in Regional_Node_Examined: 1\n",
            "count    4023.000000\n",
            "mean       14.373602\n",
            "std         8.129293\n",
            "min         1.000000\n",
            "25%         9.000000\n",
            "50%        14.000000\n",
            "75%        19.000000\n",
            "max        61.000000\n",
            "Name: Regional_Node_Examined, dtype: float64\n"
          ]
        }
      ]
    },
    {
      "cell_type": "code",
      "source": [
        "# Replace negative values with NaN and fill with median\n",
        "data['Regional_Node_Examined'] = data['Regional_Node_Examined'].apply(lambda x: x if x >= 0 else np.nan)\n",
        "data['Regional_Node_Examined'] = data['Regional_Node_Examined'].fillna(data['Regional_Node_Examined'].median())\n"
      ],
      "metadata": {
        "id": "nnFONecPrhD0"
      },
      "execution_count": 166,
      "outputs": []
    },
    {
      "cell_type": "code",
      "source": [
        "print(\"Missing values in Regional_Node_Examined (after):\", data['Regional_Node_Examined'].isnull().sum())\n",
        "print(data['Regional_Node_Examined'].describe())\n"
      ],
      "metadata": {
        "colab": {
          "base_uri": "https://localhost:8080/",
          "height": 0
        },
        "id": "xKZMGYGGz8as",
        "outputId": "741f478a-ad44-43c9-b14b-fd93bbfc6207"
      },
      "execution_count": 167,
      "outputs": [
        {
          "output_type": "stream",
          "name": "stdout",
          "text": [
            "Missing values in Regional_Node_Examined (after): 0\n",
            "count    4024.000000\n",
            "mean       14.373509\n",
            "std         8.128284\n",
            "min         1.000000\n",
            "25%         9.000000\n",
            "50%        14.000000\n",
            "75%        19.000000\n",
            "max        61.000000\n",
            "Name: Regional_Node_Examined, dtype: float64\n"
          ]
        }
      ]
    },
    {
      "cell_type": "code",
      "source": [
        "print(\"Missing values in Regional_Node_Positive:\", data['Reginol_Node_Positive'].isnull().sum())\n",
        "print(data['Reginol_Node_Positive'].describe())\n"
      ],
      "metadata": {
        "colab": {
          "base_uri": "https://localhost:8080/",
          "height": 0
        },
        "id": "cxodomY027y8",
        "outputId": "84762601-9a91-4aab-a865-520ea0f185db"
      },
      "execution_count": 168,
      "outputs": [
        {
          "output_type": "stream",
          "name": "stdout",
          "text": [
            "Missing values in Regional_Node_Positive: 0\n",
            "count    4024.000000\n",
            "mean        4.158052\n",
            "std         5.109331\n",
            "min         1.000000\n",
            "25%         1.000000\n",
            "50%         2.000000\n",
            "75%         5.000000\n",
            "max        46.000000\n",
            "Name: Reginol_Node_Positive, dtype: float64\n"
          ]
        }
      ]
    },
    {
      "cell_type": "code",
      "source": [
        "# Show inconsistent values in Sex before cleaning\n",
        "print(data['Sex'].value_counts())\n"
      ],
      "metadata": {
        "colab": {
          "base_uri": "https://localhost:8080/",
          "height": 0
        },
        "id": "vBwq4ly9_8oP",
        "outputId": "8febade9-ae78-4876-8481-c2a329e3827d"
      },
      "execution_count": 169,
      "outputs": [
        {
          "output_type": "stream",
          "name": "stdout",
          "text": [
            "Sex\n",
            "Female    4001\n",
            "1           19\n",
            "Name: count, dtype: int64\n"
          ]
        }
      ]
    },
    {
      "cell_type": "code",
      "source": [
        "# Combine rare gender entries if applicable\n",
        "data = data[data['Sex'] == 'Female']"
      ],
      "metadata": {
        "id": "wlyctYyNA29U"
      },
      "execution_count": 170,
      "outputs": []
    },
    {
      "cell_type": "code",
      "source": [
        "print(data['Sex'].value_counts())"
      ],
      "metadata": {
        "colab": {
          "base_uri": "https://localhost:8080/",
          "height": 0
        },
        "id": "D0hLRuBQA7K9",
        "outputId": "76717f80-eac0-460d-d9a0-c9a366e063d9"
      },
      "execution_count": 171,
      "outputs": [
        {
          "output_type": "stream",
          "name": "stdout",
          "text": [
            "Sex\n",
            "Female    4001\n",
            "Name: count, dtype: int64\n"
          ]
        }
      ]
    },
    {
      "cell_type": "code",
      "source": [
        "# Check missing values in Occupation\n",
        "print(\"Missing values in Occupation:\", data['Occupation'].isnull().sum())\n"
      ],
      "metadata": {
        "colab": {
          "base_uri": "https://localhost:8080/",
          "height": 0
        },
        "id": "UoMrdGaOFv9u",
        "outputId": "8d7b66a9-ce83-4029-c6d7-4b1090b6ff24"
      },
      "execution_count": 172,
      "outputs": [
        {
          "output_type": "stream",
          "name": "stdout",
          "text": [
            "Missing values in Occupation: 3962\n"
          ]
        }
      ]
    },
    {
      "cell_type": "code",
      "source": [
        "# Drop irrelevant column with too many missing values\n",
        "if 'Occupation' in data.columns:\n",
        "    data.drop(columns=['Occupation'], inplace=True)\n"
      ],
      "metadata": {
        "id": "p8gLvO-cF_3G",
        "colab": {
          "base_uri": "https://localhost:8080/",
          "height": 0
        },
        "outputId": "509d3210-823d-4fcc-946b-5defc0021179"
      },
      "execution_count": 173,
      "outputs": [
        {
          "output_type": "stream",
          "name": "stderr",
          "text": [
            "<ipython-input-173-27ceb25f1ae1>:3: SettingWithCopyWarning: \n",
            "A value is trying to be set on a copy of a slice from a DataFrame\n",
            "\n",
            "See the caveats in the documentation: https://pandas.pydata.org/pandas-docs/stable/user_guide/indexing.html#returning-a-view-versus-a-copy\n",
            "  data.drop(columns=['Occupation'], inplace=True)\n"
          ]
        }
      ]
    },
    {
      "cell_type": "code",
      "source": [
        "print('Occupation' in data.columns)"
      ],
      "metadata": {
        "colab": {
          "base_uri": "https://localhost:8080/",
          "height": 0
        },
        "id": "wqkMFfvwGVpJ",
        "outputId": "e464d53f-6dac-4a65-8bca-8a087077d477"
      },
      "execution_count": 174,
      "outputs": [
        {
          "output_type": "stream",
          "name": "stdout",
          "text": [
            "False\n"
          ]
        }
      ]
    },
    {
      "cell_type": "code",
      "source": [
        "print(data['Mortality_Status'].value_counts())\n"
      ],
      "metadata": {
        "colab": {
          "base_uri": "https://localhost:8080/",
          "height": 0
        },
        "id": "VKe6lhZwJ2QE",
        "outputId": "c08cedc7-2e81-4226-ec46-b7559361ef4b"
      },
      "execution_count": 175,
      "outputs": [
        {
          "output_type": "stream",
          "name": "stdout",
          "text": [
            "Mortality_Status\n",
            "Alive    3377\n",
            "Dead      597\n",
            "DEAD       10\n",
            "dead        8\n",
            "ALIVE       5\n",
            "alive       3\n",
            "ALive       1\n",
            "Name: count, dtype: int64\n"
          ]
        }
      ]
    },
    {
      "cell_type": "code",
      "source": [
        "sns.countplot(x='Mortality_Status', data=data)\n",
        "plt.title('Distribution of Mortality Status')\n",
        "plt.xlabel('Mortality Status (Alive vs Dead)')\n",
        "plt.ylabel('Count')\n",
        "plt.show()"
      ],
      "metadata": {
        "colab": {
          "base_uri": "https://localhost:8080/",
          "height": 472
        },
        "id": "A8dkqOo2DomE",
        "outputId": "78941ea8-d6bc-43fd-fbeb-9be07a418d02"
      },
      "execution_count": 176,
      "outputs": [
        {
          "output_type": "display_data",
          "data": {
            "text/plain": [
              "<Figure size 640x480 with 1 Axes>"
            ],
            "image/png": "[encoded data removed]"
          },
          "metadata": {}
        }
      ]
    },
    {
      "cell_type": "code",
      "source": [
        "data['Mortality_Status'] = data['Mortality_Status'].str.capitalize()\n",
        "data['Mortality_Status'] = data['Mortality_Status'].replace({\n",
        "    'Alive': 'Alive',\n",
        "    'Dead': 'Dead',\n",
        "    'ALIVE': 'Alive',\n",
        "    'DEAD': 'Dead',\n",
        "    'ALive': 'Alive',\n",
        "    'alive': 'Alive',\n",
        "    'dead': 'Dead'\n",
        "})\n"
      ],
      "metadata": {
        "id": "nyhSo6MnOaH1"
      },
      "execution_count": 177,
      "outputs": []
    },
    {
      "cell_type": "code",
      "source": [
        "print(data['Mortality_Status'].value_counts())\n"
      ],
      "metadata": {
        "id": "3pBr-oLnOcdi",
        "outputId": "1a30da3c-ebcc-459a-becc-35ab310ab18f",
        "colab": {
          "base_uri": "https://localhost:8080/",
          "height": 0
        }
      },
      "execution_count": 178,
      "outputs": [
        {
          "output_type": "stream",
          "name": "stdout",
          "text": [
            "Mortality_Status\n",
            "Alive    3386\n",
            "Dead      615\n",
            "Name: count, dtype: int64\n"
          ]
        }
      ]
    },
    {
      "cell_type": "code",
      "source": [
        "# data['Mortality_Status'] = data['Mortality_Status'].map({'Alive': 0, 'Dead': 1})\n"
      ],
      "metadata": {
        "id": "Y_goco7yQFVf"
      },
      "execution_count": 179,
      "outputs": []
    },
    {
      "cell_type": "code",
      "source": [
        "print(data['Mortality_Status'].value_counts())\n"
      ],
      "metadata": {
        "colab": {
          "base_uri": "https://localhost:8080/",
          "height": 0
        },
        "id": "xg7fzI8mQG-t",
        "outputId": "41ba89c6-2079-40d6-ea17-b2ae79131acc"
      },
      "execution_count": 180,
      "outputs": [
        {
          "output_type": "stream",
          "name": "stdout",
          "text": [
            "Mortality_Status\n",
            "Alive    3386\n",
            "Dead      615\n",
            "Name: count, dtype: int64\n"
          ]
        }
      ]
    },
    {
      "cell_type": "code",
      "source": [
        "data.describe()"
      ],
      "metadata": {
        "colab": {
          "base_uri": "https://localhost:8080/",
          "height": 300
        },
        "id": "vAT90rzLCNIF",
        "outputId": "6d3895cf-c952-4c1f-ee59-cbe2b5ff12d2"
      },
      "execution_count": 181,
      "outputs": [
        {
          "output_type": "execute_result",
          "data": {
            "text/plain": [
              "       Month_of_Birth          Age        Grade   Tumor_Size  \\\n",
              "count     4001.000000  4001.000000  4001.000000  4001.000000   \n",
              "mean         6.474881    54.126968     2.151962    30.417646   \n",
              "std          3.474540    11.605618     0.637496    21.102009   \n",
              "min          1.000000    30.000000     1.000000     1.000000   \n",
              "25%          3.000000    47.000000     2.000000    16.000000   \n",
              "50%          6.000000    54.000000     2.000000    25.000000   \n",
              "75%         10.000000    61.000000     3.000000    38.000000   \n",
              "max         12.000000   502.000000     4.000000   140.000000   \n",
              "\n",
              "       Regional_Node_Examined  Reginol_Node_Positive  Survival_Months  \n",
              "count             4001.000000            4001.000000      4001.000000  \n",
              "mean                14.387153               4.162959        71.448638  \n",
              "std                  8.134668               5.120394        25.396504  \n",
              "min                  1.000000               1.000000         1.000000  \n",
              "25%                  9.000000               1.000000        56.000000  \n",
              "50%                 14.000000               2.000000        73.000000  \n",
              "75%                 19.000000               5.000000        90.000000  \n",
              "max                 61.000000              46.000000       760.000000  "
            ],
            "text/html": [
              "\n",
              "  <div id=\"df-38998526-d7e1-4f20-bbe2-0feb2a389033\" class=\"colab-df-container\">\n",
              "    <div>\n",
              "<style scoped>\n",
              "    .dataframe tbody tr th:only-of-type {\n",
              "        vertical-align: middle;\n",
              "    }\n",
              "\n",
              "    .dataframe tbody tr th {\n",
              "        vertical-align: top;\n",
              "    }\n",
              "\n",
              "    .dataframe thead th {\n",
              "        text-align: right;\n",
              "    }\n",
              "</style>\n",
              "<table border=\"1\" class=\"dataframe\">\n",
              "  <thead>\n",
              "    <tr style=\"text-align: right;\">\n",
              "      <th></th>\n",
              "      <th>Month_of_Birth</th>\n",
              "      <th>Age</th>\n",
              "      <th>Grade</th>\n",
              "      <th>Tumor_Size</th>\n",
              "      <th>Regional_Node_Examined</th>\n",
              "      <th>Reginol_Node_Positive</th>\n",
              "      <th>Survival_Months</th>\n",
              "    </tr>\n",
              "  </thead>\n",
              "  <tbody>\n",
              "    <tr>\n",
              "      <th>count</th>\n",
              "      <td>4001.000000</td>\n",
              "      <td>4001.000000</td>\n",
              "      <td>4001.000000</td>\n",
              "      <td>4001.000000</td>\n",
              "      <td>4001.000000</td>\n",
              "      <td>4001.000000</td>\n",
              "      <td>4001.000000</td>\n",
              "    </tr>\n",
              "    <tr>\n",
              "      <th>mean</th>\n",
              "      <td>6.474881</td>\n",
              "      <td>54.126968</td>\n",
              "      <td>2.151962</td>\n",
              "      <td>30.417646</td>\n",
              "      <td>14.387153</td>\n",
              "      <td>4.162959</td>\n",
              "      <td>71.448638</td>\n",
              "    </tr>\n",
              "    <tr>\n",
              "      <th>std</th>\n",
              "      <td>3.474540</td>\n",
              "      <td>11.605618</td>\n",
              "      <td>0.637496</td>\n",
              "      <td>21.102009</td>\n",
              "      <td>8.134668</td>\n",
              "      <td>5.120394</td>\n",
              "      <td>25.396504</td>\n",
              "    </tr>\n",
              "    <tr>\n",
              "      <th>min</th>\n",
              "      <td>1.000000</td>\n",
              "      <td>30.000000</td>\n",
              "      <td>1.000000</td>\n",
              "      <td>1.000000</td>\n",
              "      <td>1.000000</td>\n",
              "      <td>1.000000</td>\n",
              "      <td>1.000000</td>\n",
              "    </tr>\n",
              "    <tr>\n",
              "      <th>25%</th>\n",
              "      <td>3.000000</td>\n",
              "      <td>47.000000</td>\n",
              "      <td>2.000000</td>\n",
              "      <td>16.000000</td>\n",
              "      <td>9.000000</td>\n",
              "      <td>1.000000</td>\n",
              "      <td>56.000000</td>\n",
              "    </tr>\n",
              "    <tr>\n",
              "      <th>50%</th>\n",
              "      <td>6.000000</td>\n",
              "      <td>54.000000</td>\n",
              "      <td>2.000000</td>\n",
              "      <td>25.000000</td>\n",
              "      <td>14.000000</td>\n",
              "      <td>2.000000</td>\n",
              "      <td>73.000000</td>\n",
              "    </tr>\n",
              "    <tr>\n",
              "      <th>75%</th>\n",
              "      <td>10.000000</td>\n",
              "      <td>61.000000</td>\n",
              "      <td>3.000000</td>\n",
              "      <td>38.000000</td>\n",
              "      <td>19.000000</td>\n",
              "      <td>5.000000</td>\n",
              "      <td>90.000000</td>\n",
              "    </tr>\n",
              "    <tr>\n",
              "      <th>max</th>\n",
              "      <td>12.000000</td>\n",
              "      <td>502.000000</td>\n",
              "      <td>4.000000</td>\n",
              "      <td>140.000000</td>\n",
              "      <td>61.000000</td>\n",
              "      <td>46.000000</td>\n",
              "      <td>760.000000</td>\n",
              "    </tr>\n",
              "  </tbody>\n",
              "</table>\n",
              "</div>\n",
              "    <div class=\"colab-df-buttons\">\n",
              "\n",
              "  <div class=\"colab-df-container\">\n",
              "    <button class=\"colab-df-convert\" onclick=\"convertToInteractive('df-38998526-d7e1-4f20-bbe2-0feb2a389033')\"\n",
              "            title=\"Convert this dataframe to an interactive table.\"\n",
              "            style=\"display:none;\">\n",
              "\n",
              "  <svg xmlns=\"http://www.w3.org/2000/svg\" height=\"24px\" viewBox=\"0 -960 960 960\">\n",
              "    <path d=\"M120-120v-720h720v720H120Zm60-500h600v-160H180v160Zm220 220h160v-160H400v160Zm0 220h160v-160H400v160ZM180-400h160v-160H180v160Zm440 0h160v-160H620v160ZM180-180h160v-160H180v160Zm440 0h160v-160H620v160Z\"/>\n",
              "  </svg>\n",
              "    </button>\n",
              "\n",
              "  <style>\n",
              "    .colab-df-container {\n",
              "      display:flex;\n",
              "      gap: 12px;\n",
              "    }\n",
              "\n",
              "    .colab-df-convert {\n",
              "      background-color: #E8F0FE;\n",
              "      border: none;\n",
              "      border-radius: 50%;\n",
              "      cursor: pointer;\n",
              "      display: none;\n",
              "      fill: #1967D2;\n",
              "      height: 32px;\n",
              "      padding: 0 0 0 0;\n",
              "      width: 32px;\n",
              "    }\n",
              "\n",
              "    .colab-df-convert:hover {\n",
              "      background-color: #E2EBFA;\n",
              "      box-shadow: 0px 1px 2px rgba(60, 64, 67, 0.3), 0px 1px 3px 1px rgba(60, 64, 67, 0.15);\n",
              "      fill: #174EA6;\n",
              "    }\n",
              "\n",
              "    .colab-df-buttons div {\n",
              "      margin-bottom: 4px;\n",
              "    }\n",
              "\n",
              "    [theme=dark] .colab-df-convert {\n",
              "      background-color: #3B4455;\n",
              "      fill: #D2E3FC;\n",
              "    }\n",
              "\n",
              "    [theme=dark] .colab-df-convert:hover {\n",
              "      background-color: #434B5C;\n",
              "      box-shadow: 0px 1px 3px 1px rgba(0, 0, 0, 0.15);\n",
              "      filter: drop-shadow(0px 1px 2px rgba(0, 0, 0, 0.3));\n",
              "      fill: #FFFFFF;\n",
              "    }\n",
              "  </style>\n",
              "\n",
              "    <script>\n",
              "      const buttonEl =\n",
              "        document.querySelector('#df-38998526-d7e1-4f20-bbe2-0feb2a389033 button.colab-df-convert');\n",
              "      buttonEl.style.display =\n",
              "        google.colab.kernel.accessAllowed ? 'block' : 'none';\n",
              "\n",
              "      async function convertToInteractive(key) {\n",
              "        const element = document.querySelector('#df-38998526-d7e1-4f20-bbe2-0feb2a389033');\n",
              "        const dataTable =\n",
              "          await google.colab.kernel.invokeFunction('convertToInteractive',\n",
              "                                                    [key], {});\n",
              "        if (!dataTable) return;\n",
              "\n",
              "        const docLinkHtml = 'Like what you see? Visit the ' +\n",
              "          '<a target=\"_blank\" href=https://colab.research.google.com/notebooks/data_table.ipynb>data table notebook</a>'\n",
              "          + ' to learn more about interactive tables.';\n",
              "        element.innerHTML = '';\n",
              "        dataTable['output_type'] = 'display_data';\n",
              "        await google.colab.output.renderOutput(dataTable, element);\n",
              "        const docLink = document.createElement('div');\n",
              "        docLink.innerHTML = docLinkHtml;\n",
              "        element.appendChild(docLink);\n",
              "      }\n",
              "    </script>\n",
              "  </div>\n",
              "\n",
              "\n",
              "    <div id=\"df-d265eaf1-bc84-4c12-b9aa-03a71632b84b\">\n",
              "      <button class=\"colab-df-quickchart\" onclick=\"quickchart('df-d265eaf1-bc84-4c12-b9aa-03a71632b84b')\"\n",
              "                title=\"Suggest charts\"\n",
              "                style=\"display:none;\">\n",
              "\n",
              "<svg xmlns=\"http://www.w3.org/2000/svg\" height=\"24px\"viewBox=\"0 0 24 24\"\n",
              "     width=\"24px\">\n",
              "    <g>\n",
              "        <path d=\"M19 3H5c-1.1 0-2 .9-2 2v14c0 1.1.9 2 2 2h14c1.1 0 2-.9 2-2V5c0-1.1-.9-2-2-2zM9 17H7v-7h2v7zm4 0h-2V7h2v10zm4 0h-2v-4h2v4z\"/>\n",
              "    </g>\n",
              "</svg>\n",
              "      </button>\n",
              "\n",
              "<style>\n",
              "  .colab-df-quickchart {\n",
              "      --bg-color: #E8F0FE;\n",
              "      --fill-color: #1967D2;\n",
              "      --hover-bg-color: #E2EBFA;\n",
              "      --hover-fill-color: #174EA6;\n",
              "      --disabled-fill-color: #AAA;\n",
              "      --disabled-bg-color: #DDD;\n",
              "  }\n",
              "\n",
              "  [theme=dark] .colab-df-quickchart {\n",
              "      --bg-color: #3B4455;\n",
              "      --fill-color: #D2E3FC;\n",
              "      --hover-bg-color: #434B5C;\n",
              "      --hover-fill-color: #FFFFFF;\n",
              "      --disabled-bg-color: #3B4455;\n",
              "      --disabled-fill-color: #666;\n",
              "  }\n",
              "\n",
              "  .colab-df-quickchart {\n",
              "    background-color: var(--bg-color);\n",
              "    border: none;\n",
              "    border-radius: 50%;\n",
              "    cursor: pointer;\n",
              "    display: none;\n",
              "    fill: var(--fill-color);\n",
              "    height: 32px;\n",
              "    padding: 0;\n",
              "    width: 32px;\n",
              "  }\n",
              "\n",
              "  .colab-df-quickchart:hover {\n",
              "    background-color: var(--hover-bg-color);\n",
              "    box-shadow: 0 1px 2px rgba(60, 64, 67, 0.3), 0 1px 3px 1px rgba(60, 64, 67, 0.15);\n",
              "    fill: var(--button-hover-fill-color);\n",
              "  }\n",
              "\n",
              "  .colab-df-quickchart-complete:disabled,\n",
              "  .colab-df-quickchart-complete:disabled:hover {\n",
              "    background-color: var(--disabled-bg-color);\n",
              "    fill: var(--disabled-fill-color);\n",
              "    box-shadow: none;\n",
              "  }\n",
              "\n",
              "  .colab-df-spinner {\n",
              "    border: 2px solid var(--fill-color);\n",
              "    border-color: transparent;\n",
              "    border-bottom-color: var(--fill-color);\n",
              "    animation:\n",
              "      spin 1s steps(1) infinite;\n",
              "  }\n",
              "\n",
              "  @keyframes spin {\n",
              "    0% {\n",
              "      border-color: transparent;\n",
              "      border-bottom-color: var(--fill-color);\n",
              "      border-left-color: var(--fill-color);\n",
              "    }\n",
              "    20% {\n",
              "      border-color: transparent;\n",
              "      border-left-color: var(--fill-color);\n",
              "      border-top-color: var(--fill-color);\n",
              "    }\n",
              "    30% {\n",
              "      border-color: transparent;\n",
              "      border-left-color: var(--fill-color);\n",
              "      border-top-color: var(--fill-color);\n",
              "      border-right-color: var(--fill-color);\n",
              "    }\n",
              "    40% {\n",
              "      border-color: transparent;\n",
              "      border-right-color: var(--fill-color);\n",
              "      border-top-color: var(--fill-color);\n",
              "    }\n",
              "    60% {\n",
              "      border-color: transparent;\n",
              "      border-right-color: var(--fill-color);\n",
              "    }\n",
              "    80% {\n",
              "      border-color: transparent;\n",
              "      border-right-color: var(--fill-color);\n",
              "      border-bottom-color: var(--fill-color);\n",
              "    }\n",
              "    90% {\n",
              "      border-color: transparent;\n",
              "      border-bottom-color: var(--fill-color);\n",
              "    }\n",
              "  }\n",
              "</style>\n",
              "\n",
              "      <script>\n",
              "        async function quickchart(key) {\n",
              "          const quickchartButtonEl =\n",
              "            document.querySelector('#' + key + ' button');\n",
              "          quickchartButtonEl.disabled = true;  // To prevent multiple clicks.\n",
              "          quickchartButtonEl.classList.add('colab-df-spinner');\n",
              "          try {\n",
              "            const charts = await google.colab.kernel.invokeFunction(\n",
              "                'suggestCharts', [key], {});\n",
              "          } catch (error) {\n",
              "            console.error('Error during call to suggestCharts:', error);\n",
              "          }\n",
              "          quickchartButtonEl.classList.remove('colab-df-spinner');\n",
              "          quickchartButtonEl.classList.add('colab-df-quickchart-complete');\n",
              "        }\n",
              "        (() => {\n",
              "          let quickchartButtonEl =\n",
              "            document.querySelector('#df-d265eaf1-bc84-4c12-b9aa-03a71632b84b button');\n",
              "          quickchartButtonEl.style.display =\n",
              "            google.colab.kernel.accessAllowed ? 'block' : 'none';\n",
              "        })();\n",
              "      </script>\n",
              "    </div>\n",
              "\n",
              "    </div>\n",
              "  </div>\n"
            ],
            "application/vnd.google.colaboratory.intrinsic+json": {
              "type": "dataframe",
              "summary": "{\n  \"name\": \"data\",\n  \"rows\": 8,\n  \"fields\": [\n    {\n      \"column\": \"Month_of_Birth\",\n      \"properties\": {\n        \"dtype\": \"number\",\n        \"std\": 1412.4530330081857,\n        \"min\": 1.0,\n        \"max\": 4001.0,\n        \"num_unique_values\": 8,\n        \"samples\": [\n          6.47488127968008,\n          6.0,\n          4001.0\n        ],\n        \"semantic_type\": \"\",\n        \"description\": \"\"\n      }\n    },\n    {\n      \"column\": \"Age\",\n      \"properties\": {\n        \"dtype\": \"number\",\n        \"std\": 1385.6274274563234,\n        \"min\": 11.605618252865346,\n        \"max\": 4001.0,\n        \"num_unique_values\": 8,\n        \"samples\": [\n          54.126968257935516,\n          54.0,\n          4001.0\n        ],\n        \"semantic_type\": \"\",\n        \"description\": \"\"\n      }\n    },\n    {\n      \"column\": \"Grade\",\n      \"properties\": {\n        \"dtype\": \"number\",\n        \"std\": 1413.8205288946665,\n        \"min\": 0.637496489838438,\n        \"max\": 4001.0,\n        \"num_unique_values\": 7,\n        \"samples\": [\n          4001.0,\n          2.1519620094976255,\n          3.0\n        ],\n        \"semantic_type\": \"\",\n        \"description\": \"\"\n      }\n    },\n    {\n      \"column\": \"Tumor_Size\",\n      \"properties\": {\n        \"dtype\": \"number\",\n        \"std\": 1401.5040137152466,\n        \"min\": 1.0,\n        \"max\": 4001.0,\n        \"num_unique_values\": 8,\n        \"samples\": [\n          30.41764558860285,\n          25.0,\n          4001.0\n        ],\n        \"semantic_type\": \"\",\n        \"description\": \"\"\n      }\n    },\n    {\n      \"column\": \"Regional_Node_Examined\",\n      \"properties\": {\n        \"dtype\": \"number\",\n        \"std\": 1408.2958097764952,\n        \"min\": 1.0,\n        \"max\": 4001.0,\n        \"num_unique_values\": 8,\n        \"samples\": [\n          14.387153211697076,\n          14.0,\n          4001.0\n        ],\n        \"semantic_type\": \"\",\n        \"description\": \"\"\n      }\n    },\n    {\n      \"column\": \"Reginol_Node_Positive\",\n      \"properties\": {\n        \"dtype\": \"number\",\n        \"std\": 1411.4013024341814,\n        \"min\": 1.0,\n        \"max\": 4001.0,\n        \"num_unique_values\": 7,\n        \"samples\": [\n          4001.0,\n          4.162959260184953,\n          5.0\n        ],\n        \"semantic_type\": \"\",\n        \"description\": \"\"\n      }\n    },\n    {\n      \"column\": \"Survival_Months\",\n      \"properties\": {\n        \"dtype\": \"number\",\n        \"std\": 1382.794942937787,\n        \"min\": 1.0,\n        \"max\": 4001.0,\n        \"num_unique_values\": 8,\n        \"samples\": [\n          71.44863784053986,\n          73.0,\n          4001.0\n        ],\n        \"semantic_type\": \"\",\n        \"description\": \"\"\n      }\n    }\n  ]\n}"
            }
          },
          "metadata": {},
          "execution_count": 181
        }
      ]
    },
    {
      "cell_type": "code",
      "source": [
        "# Rename \"Reginol_Node_Positive\" to correct spelling\n",
        "if 'Reginol_Node_Positive' in data.columns:\n",
        "    data.rename(columns={'Reginol_Node_Positive': 'Regional_Node_Positive'}, inplace=True)"
      ],
      "metadata": {
        "id": "GbJTYk2bl8nt"
      },
      "execution_count": 182,
      "outputs": []
    },
    {
      "cell_type": "code",
      "source": [
        "# Identify Numeric and Categorical Columns\n",
        "numerical_cols = data.select_dtypes(include=['int64', 'float64']).columns\n",
        "categorical_cols = data.select_dtypes(include=['object']).columns\n"
      ],
      "metadata": {
        "id": "ZUBiHibIaM0U"
      },
      "execution_count": 183,
      "outputs": []
    },
    {
      "cell_type": "code",
      "source": [
        "# Numeric columns: replace missing values with mean\n",
        "imputer = SimpleImputer(strategy='mean')\n",
        "data[numerical_cols] = imputer.fit_transform(data[numerical_cols])"
      ],
      "metadata": {
        "id": "bSHJ6rkHa_pO"
      },
      "execution_count": 184,
      "outputs": []
    },
    {
      "cell_type": "code",
      "source": [
        "# Categorical columns: replace missing values with most frequent\n",
        "imputer = SimpleImputer(strategy='most_frequent')\n",
        "data[categorical_cols] = imputer.fit_transform(data[categorical_cols])"
      ],
      "metadata": {
        "id": "bpNgfAHscLWw"
      },
      "execution_count": 185,
      "outputs": []
    },
    {
      "cell_type": "code",
      "source": [
        "#Outlier Removal using IQR\n",
        "def remove_outliers_iqr(df, column):\n",
        "    Q1 = df[column].quantile(0.25)\n",
        "    Q3 = df[column].quantile(0.75)\n",
        "    IQR = Q3 - Q1\n",
        "    lower_bound = Q1 - 1.5 * IQR\n",
        "    upper_bound = Q3 + 1.5 * IQR\n",
        "    df[column] = np.where(df[column] < lower_bound, lower_bound, df[column])\n",
        "    df[column] = np.where(df[column] > upper_bound, upper_bound, df[column])"
      ],
      "metadata": {
        "id": "LHRzkiG0cOoA"
      },
      "execution_count": 186,
      "outputs": []
    },
    {
      "cell_type": "code",
      "source": [
        "outlier_cols = ['Age', 'Tumor_Size', 'Regional_Node_Examined', 'Regional_Node_Positive', 'Survival_Months']"
      ],
      "metadata": {
        "id": "X4_pEfh_cX_J"
      },
      "execution_count": 187,
      "outputs": []
    },
    {
      "cell_type": "code",
      "source": [
        "for col in outlier_cols:\n",
        "    remove_outliers_iqr(data, col)"
      ],
      "metadata": {
        "id": "eerNMk62cb8O"
      },
      "execution_count": 188,
      "outputs": []
    },
    {
      "cell_type": "code",
      "source": [
        "\n",
        "for col in outlier_cols:\n",
        "    plt.figure(figsize=(6, 4))\n",
        "    sns.boxplot(x=data[col])\n",
        "    plt.title(f'Boxplot for {col}')\n",
        "    plt.show()"
      ],
      "metadata": {
        "colab": {
          "base_uri": "https://localhost:8080/",
          "height": 1982
        },
        "id": "-wunKVH9_Kcm",
        "outputId": "385b2b82-95b6-46d1-af2c-56830d572930"
      },
      "execution_count": 189,
      "outputs": [
        {
          "output_type": "display_data",
          "data": {
            "text/plain": [
              "<Figure size 600x400 with 1 Axes>"
            ],
            "image/png": "[encoded data removed]"
          },
          "metadata": {}
        },
        {
          "output_type": "display_data",
          "data": {
            "text/plain": [
              "<Figure size 600x400 with 1 Axes>"
            ],
            "image/png": "[encoded data removed]"
          },
          "metadata": {}
        },
        {
          "output_type": "display_data",
          "data": {
            "text/plain": [
              "<Figure size 600x400 with 1 Axes>"
            ],
            "image/png": "[encoded data removed]"
          },
          "metadata": {}
        },
        {
          "output_type": "display_data",
          "data": {
            "text/plain": [
              "<Figure size 600x400 with 1 Axes>"
            ],
            "image/png": "[encoded data removed]"
          },
          "metadata": {}
        },
        {
          "output_type": "display_data",
          "data": {
            "text/plain": [
              "<Figure size 600x400 with 1 Axes>"
            ],
            "image/png": "[encoded data removed]"
          },
          "metadata": {}
        }
      ]
    },
    {
      "cell_type": "code",
      "source": [
        "# Ensure no negative ages, tumor sizes, node counts\n",
        "for col in ['Age', 'Tumor_Size', 'Regional_Node_Examined']:\n",
        "    data[col] = data[col].apply(lambda x: x if x >= 0 else np.nan)\n",
        "    data[col] = data[col].fillna(data[col].median())"
      ],
      "metadata": {
        "id": "JAKfEp9WcexT"
      },
      "execution_count": 190,
      "outputs": []
    },
    {
      "cell_type": "code",
      "source": [
        "data['Sex'] = data['Sex'].replace({'1': 'Male'})\n",
        "data['Sex'] = data['Sex'].astype('category')"
      ],
      "metadata": {
        "id": "yjag1k9kchqW"
      },
      "execution_count": 191,
      "outputs": []
    },
    {
      "cell_type": "code",
      "source": [
        "print(data['Mortality_Status'].describe());"
      ],
      "metadata": {
        "colab": {
          "base_uri": "https://localhost:8080/",
          "height": 0
        },
        "id": "o9_ikvztHQgB",
        "outputId": "56b114e5-5e1a-4a19-b4cc-c9ae2bd6717e"
      },
      "execution_count": 192,
      "outputs": [
        {
          "output_type": "stream",
          "name": "stdout",
          "text": [
            "count      4001\n",
            "unique        2\n",
            "top       Alive\n",
            "freq       3386\n",
            "Name: Mortality_Status, dtype: object\n"
          ]
        }
      ]
    },
    {
      "cell_type": "code",
      "source": [
        "print(data['Mortality_Status'].value_counts())\n"
      ],
      "metadata": {
        "colab": {
          "base_uri": "https://localhost:8080/",
          "height": 0
        },
        "id": "c9f7B9GSLemB",
        "outputId": "2abd88ac-822c-442e-beb4-9eaa8c846206"
      },
      "execution_count": 193,
      "outputs": [
        {
          "output_type": "stream",
          "name": "stdout",
          "text": [
            "Mortality_Status\n",
            "Alive    3386\n",
            "Dead      615\n",
            "Name: count, dtype: int64\n"
          ]
        }
      ]
    },
    {
      "cell_type": "code",
      "source": [
        "# Remove extreme outliers in 'Survival_Months' again to be safe\n",
        "Q1 = data['Survival_Months'].quantile(0.25)\n",
        "Q3 = data['Survival_Months'].quantile(0.75)\n",
        "IQR = Q3 - Q1\n",
        "lower = Q1 - 1.5 * IQR\n",
        "upper = Q3 + 1.5 * IQR\n",
        "data = data[(data['Survival_Months'] >= lower) & (data['Survival_Months'] <= upper)]"
      ],
      "metadata": {
        "id": "bAqdZtgIdqa8"
      },
      "execution_count": 194,
      "outputs": []
    },
    {
      "cell_type": "code",
      "source": [
        "# Normalizing only selected columns (Month_of_Birth dropped later)\n",
        "features_to_normalize = ['Age', 'Grade', 'Tumor_Size', 'Regional_Node_Examined', 'Regional_Node_Positive', 'Survival_Months']"
      ],
      "metadata": {
        "id": "ROwWRK-Ed3OU"
      },
      "execution_count": 195,
      "outputs": []
    },
    {
      "cell_type": "code",
      "source": [
        "# scaler = MinMaxScaler()\n",
        "# data[features_to_normalize] = scaler.fit_transform(data[features_to_normalize])"
      ],
      "metadata": {
        "id": "-yZTf7WHd8rN"
      },
      "execution_count": 196,
      "outputs": []
    },
    {
      "cell_type": "code",
      "source": [
        "# Check and remove duplicate rows before saving\n",
        "print(\"Number of duplicate rows:\", data.duplicated().sum())\n",
        "data = data.drop_duplicates()\n",
        "\n"
      ],
      "metadata": {
        "colab": {
          "base_uri": "https://localhost:8080/",
          "height": 0
        },
        "id": "eNlmR47E-bg6",
        "outputId": "9878a7f8-3c56-4dc7-bbe6-aec90505e807"
      },
      "execution_count": 197,
      "outputs": [
        {
          "output_type": "stream",
          "name": "stdout",
          "text": [
            "Number of duplicate rows: 0\n"
          ]
        }
      ]
    },
    {
      "cell_type": "code",
      "source": [
        "# label_encoders = {}\n",
        "# categorical_cols = [\"Sex\", \"T_Stage\", \"N_Stage\", \"6th_Stage\", \"Differentiated\", \"A_Stage\",\n",
        "#                     \"Estrogen_Status\", \"Progesterone_Status\", \"Mortality_Status\"]"
      ],
      "metadata": {
        "id": "HAq27mL_D3Wp"
      },
      "execution_count": 198,
      "outputs": []
    },
    {
      "cell_type": "code",
      "source": [
        "label_encoders = {}\n",
        "categorical_cols = [\"Sex\", \"T_Stage\", \"N_Stage\", \"6th_Stage\", \"Differentiated\", \"A_Stage\",\n",
        "                    \"Estrogen_Status\", \"Progesterone_Status\", \"Mortality_Status\"]\n",
        "\n",
        "for col in categorical_cols:\n",
        "    le = LabelEncoder()  # move this line **inside** the loop\n",
        "    data[col] = le.fit_transform(data[col])\n",
        "    label_encoders[col] = le\n"
      ],
      "metadata": {
        "id": "Bt56BTshD7LC"
      },
      "execution_count": 199,
      "outputs": []
    },
    {
      "cell_type": "code",
      "source": [
        "for col, encoder in label_encoders.items():\n",
        "    print(f\"\\nColumn: {col}\")\n",
        "    for i, cls in enumerate(encoder.classes_):\n",
        "        print(f\"  {cls} ➝ {i}\")\n"
      ],
      "metadata": {
        "colab": {
          "base_uri": "https://localhost:8080/",
          "height": 0
        },
        "id": "XCcWKtEYIMPi",
        "outputId": "9b92256a-aaca-42c5-b47d-c3674d6748bd"
      },
      "execution_count": 200,
      "outputs": [
        {
          "output_type": "stream",
          "name": "stdout",
          "text": [
            "\n",
            "Column: Sex\n",
            "  Female ➝ 0\n",
            "\n",
            "Column: T_Stage\n",
            "  T1 ➝ 0\n",
            "  T2 ➝ 1\n",
            "  T3 ➝ 2\n",
            "  T4 ➝ 3\n",
            "\n",
            "Column: N_Stage\n",
            "  N1 ➝ 0\n",
            "  N2 ➝ 1\n",
            "  N3 ➝ 2\n",
            "\n",
            "Column: 6th_Stage\n",
            "  IIA ➝ 0\n",
            "  IIB ➝ 1\n",
            "  IIIA ➝ 2\n",
            "  IIIB ➝ 3\n",
            "  IIIC ➝ 4\n",
            "\n",
            "Column: Differentiated\n",
            "  Moderately differentiated ➝ 0\n",
            "  Poorly differentiated ➝ 1\n",
            "  Undifferentiated ➝ 2\n",
            "  Well differentiated ➝ 3\n",
            "\n",
            "Column: A_Stage\n",
            "  Distant ➝ 0\n",
            "  Regional ➝ 1\n",
            "\n",
            "Column: Estrogen_Status\n",
            "  Negative ➝ 0\n",
            "  Positive ➝ 1\n",
            "\n",
            "Column: Progesterone_Status\n",
            "  Negative ➝ 0\n",
            "  Positive ➝ 1\n",
            "\n",
            "Column: Mortality_Status\n",
            "  Alive ➝ 0\n",
            "  Dead ➝ 1\n"
          ]
        }
      ]
    },
    {
      "cell_type": "code",
      "source": [
        "#Save Cleaned Full Dataset\n",
        "data.to_csv('cleaned_dataset.csv', index=False)"
      ],
      "metadata": {
        "id": "bnHu8YPieBmO"
      },
      "execution_count": 201,
      "outputs": []
    },
    {
      "cell_type": "code",
      "source": [
        "# Drop irrelevant columns first\n",
        "classification_data = data.drop(columns=['Survival_Months', 'Patient_ID', 'Month_of_Birth', '6th_Stage'])\n",
        "\n"
      ],
      "metadata": {
        "id": "L2kgvCUFAZ54"
      },
      "execution_count": 202,
      "outputs": []
    },
    {
      "cell_type": "code",
      "source": [
        "regression_data = data.drop(columns=['Mortality_Status', 'Patient_ID', 'Month_of_Birth', '6th_Stage'])"
      ],
      "metadata": {
        "id": "aYSzwMpdAhX2"
      },
      "execution_count": 203,
      "outputs": []
    },
    {
      "cell_type": "code",
      "source": [
        "regression_data.info()\n"
      ],
      "metadata": {
        "colab": {
          "base_uri": "https://localhost:8080/",
          "height": 0
        },
        "id": "g958GG-r-nkD",
        "outputId": "9adfdee9-9fb9-4340-e81d-20614b7ebebe"
      },
      "execution_count": 204,
      "outputs": [
        {
          "output_type": "stream",
          "name": "stdout",
          "text": [
            "<class 'pandas.core.frame.DataFrame'>\n",
            "Index: 4001 entries, 0 to 4023\n",
            "Data columns (total 13 columns):\n",
            " #   Column                  Non-Null Count  Dtype  \n",
            "---  ------                  --------------  -----  \n",
            " 0   Age                     4001 non-null   float64\n",
            " 1   Sex                     4001 non-null   int64  \n",
            " 2   T_Stage                 4001 non-null   int64  \n",
            " 3   N_Stage                 4001 non-null   int64  \n",
            " 4   Differentiated          4001 non-null   int64  \n",
            " 5   Grade                   4001 non-null   float64\n",
            " 6   A_Stage                 4001 non-null   int64  \n",
            " 7   Tumor_Size              4001 non-null   float64\n",
            " 8   Estrogen_Status         4001 non-null   int64  \n",
            " 9   Progesterone_Status     4001 non-null   int64  \n",
            " 10  Regional_Node_Examined  4001 non-null   float64\n",
            " 11  Regional_Node_Positive  4001 non-null   float64\n",
            " 12  Survival_Months         4001 non-null   float64\n",
            "dtypes: float64(6), int64(7)\n",
            "memory usage: 437.6 KB\n"
          ]
        }
      ]
    },
    {
      "cell_type": "code",
      "source": [
        "classification_data.to_csv('classification_dataset.csv', index=False)\n",
        "regression_data.to_csv('regression_dataset.csv', index=False)"
      ],
      "metadata": {
        "id": "k7TMzPuxAjMD"
      },
      "execution_count": 205,
      "outputs": []
    },
    {
      "cell_type": "code",
      "source": [
        "regression_data.head()"
      ],
      "metadata": {
        "colab": {
          "base_uri": "https://localhost:8080/",
          "height": 206
        },
        "id": "TetEBaz3BGRC",
        "outputId": "265e94f8-aac0-4957-ba29-73a7358f75da"
      },
      "execution_count": 206,
      "outputs": [
        {
          "output_type": "execute_result",
          "data": {
            "text/plain": [
              "    Age  Sex  T_Stage  N_Stage  Differentiated  Grade  A_Stage  Tumor_Size  \\\n",
              "0  68.0    0        0        0               1    3.0        1         4.0   \n",
              "1  50.0    0        1        1               0    2.0        1        35.0   \n",
              "2  58.0    0        2        2               0    2.0        1        63.0   \n",
              "3  58.0    0        0        0               1    3.0        1        18.0   \n",
              "4  47.0    0        1        0               1    3.0        1        41.0   \n",
              "\n",
              "   Estrogen_Status  Progesterone_Status  Regional_Node_Examined  \\\n",
              "0                1                    1                    24.0   \n",
              "1                1                    1                    14.0   \n",
              "2                1                    1                    14.0   \n",
              "3                1                    1                     2.0   \n",
              "4                1                    1                     3.0   \n",
              "\n",
              "   Regional_Node_Positive  Survival_Months  \n",
              "0                     1.0             60.0  \n",
              "1                     5.0             62.0  \n",
              "2                     7.0             75.0  \n",
              "3                     1.0             84.0  \n",
              "4                     1.0             50.0  "
            ],
            "text/html": [
              "\n",
              "  <div id=\"df-f0f29199-5ab4-4b43-a308-d3cbc79e9288\" class=\"colab-df-container\">\n",
              "    <div>\n",
              "<style scoped>\n",
              "    .dataframe tbody tr th:only-of-type {\n",
              "        vertical-align: middle;\n",
              "    }\n",
              "\n",
              "    .dataframe tbody tr th {\n",
              "        vertical-align: top;\n",
              "    }\n",
              "\n",
              "    .dataframe thead th {\n",
              "        text-align: right;\n",
              "    }\n",
              "</style>\n",
              "<table border=\"1\" class=\"dataframe\">\n",
              "  <thead>\n",
              "    <tr style=\"text-align: right;\">\n",
              "      <th></th>\n",
              "      <th>Age</th>\n",
              "      <th>Sex</th>\n",
              "      <th>T_Stage</th>\n",
              "      <th>N_Stage</th>\n",
              "      <th>Differentiated</th>\n",
              "      <th>Grade</th>\n",
              "      <th>A_Stage</th>\n",
              "      <th>Tumor_Size</th>\n",
              "      <th>Estrogen_Status</th>\n",
              "      <th>Progesterone_Status</th>\n",
              "      <th>Regional_Node_Examined</th>\n",
              "      <th>Regional_Node_Positive</th>\n",
              "      <th>Survival_Months</th>\n",
              "    </tr>\n",
              "  </thead>\n",
              "  <tbody>\n",
              "    <tr>\n",
              "      <th>0</th>\n",
              "      <td>68.0</td>\n",
              "      <td>0</td>\n",
              "      <td>0</td>\n",
              "      <td>0</td>\n",
              "      <td>1</td>\n",
              "      <td>3.0</td>\n",
              "      <td>1</td>\n",
              "      <td>4.0</td>\n",
              "      <td>1</td>\n",
              "      <td>1</td>\n",
              "      <td>24.0</td>\n",
              "      <td>1.0</td>\n",
              "      <td>60.0</td>\n",
              "    </tr>\n",
              "    <tr>\n",
              "      <th>1</th>\n",
              "      <td>50.0</td>\n",
              "      <td>0</td>\n",
              "      <td>1</td>\n",
              "      <td>1</td>\n",
              "      <td>0</td>\n",
              "      <td>2.0</td>\n",
              "      <td>1</td>\n",
              "      <td>35.0</td>\n",
              "      <td>1</td>\n",
              "      <td>1</td>\n",
              "      <td>14.0</td>\n",
              "      <td>5.0</td>\n",
              "      <td>62.0</td>\n",
              "    </tr>\n",
              "    <tr>\n",
              "      <th>2</th>\n",
              "      <td>58.0</td>\n",
              "      <td>0</td>\n",
              "      <td>2</td>\n",
              "      <td>2</td>\n",
              "      <td>0</td>\n",
              "      <td>2.0</td>\n",
              "      <td>1</td>\n",
              "      <td>63.0</td>\n",
              "      <td>1</td>\n",
              "      <td>1</td>\n",
              "      <td>14.0</td>\n",
              "      <td>7.0</td>\n",
              "      <td>75.0</td>\n",
              "    </tr>\n",
              "    <tr>\n",
              "      <th>3</th>\n",
              "      <td>58.0</td>\n",
              "      <td>0</td>\n",
              "      <td>0</td>\n",
              "      <td>0</td>\n",
              "      <td>1</td>\n",
              "      <td>3.0</td>\n",
              "      <td>1</td>\n",
              "      <td>18.0</td>\n",
              "      <td>1</td>\n",
              "      <td>1</td>\n",
              "      <td>2.0</td>\n",
              "      <td>1.0</td>\n",
              "      <td>84.0</td>\n",
              "    </tr>\n",
              "    <tr>\n",
              "      <th>4</th>\n",
              "      <td>47.0</td>\n",
              "      <td>0</td>\n",
              "      <td>1</td>\n",
              "      <td>0</td>\n",
              "      <td>1</td>\n",
              "      <td>3.0</td>\n",
              "      <td>1</td>\n",
              "      <td>41.0</td>\n",
              "      <td>1</td>\n",
              "      <td>1</td>\n",
              "      <td>3.0</td>\n",
              "      <td>1.0</td>\n",
              "      <td>50.0</td>\n",
              "    </tr>\n",
              "  </tbody>\n",
              "</table>\n",
              "</div>\n",
              "    <div class=\"colab-df-buttons\">\n",
              "\n",
              "  <div class=\"colab-df-container\">\n",
              "    <button class=\"colab-df-convert\" onclick=\"convertToInteractive('df-f0f29199-5ab4-4b43-a308-d3cbc79e9288')\"\n",
              "            title=\"Convert this dataframe to an interactive table.\"\n",
              "            style=\"display:none;\">\n",
              "\n",
              "  <svg xmlns=\"http://www.w3.org/2000/svg\" height=\"24px\" viewBox=\"0 -960 960 960\">\n",
              "    <path d=\"M120-120v-720h720v720H120Zm60-500h600v-160H180v160Zm220 220h160v-160H400v160Zm0 220h160v-160H400v160ZM180-400h160v-160H180v160Zm440 0h160v-160H620v160ZM180-180h160v-160H180v160Zm440 0h160v-160H620v160Z\"/>\n",
              "  </svg>\n",
              "    </button>\n",
              "\n",
              "  <style>\n",
              "    .colab-df-container {\n",
              "      display:flex;\n",
              "      gap: 12px;\n",
              "    }\n",
              "\n",
              "    .colab-df-convert {\n",
              "      background-color: #E8F0FE;\n",
              "      border: none;\n",
              "      border-radius: 50%;\n",
              "      cursor: pointer;\n",
              "      display: none;\n",
              "      fill: #1967D2;\n",
              "      height: 32px;\n",
              "      padding: 0 0 0 0;\n",
              "      width: 32px;\n",
              "    }\n",
              "\n",
              "    .colab-df-convert:hover {\n",
              "      background-color: #E2EBFA;\n",
              "      box-shadow: 0px 1px 2px rgba(60, 64, 67, 0.3), 0px 1px 3px 1px rgba(60, 64, 67, 0.15);\n",
              "      fill: #174EA6;\n",
              "    }\n",
              "\n",
              "    .colab-df-buttons div {\n",
              "      margin-bottom: 4px;\n",
              "    }\n",
              "\n",
              "    [theme=dark] .colab-df-convert {\n",
              "      background-color: #3B4455;\n",
              "      fill: #D2E3FC;\n",
              "    }\n",
              "\n",
              "    [theme=dark] .colab-df-convert:hover {\n",
              "      background-color: #434B5C;\n",
              "      box-shadow: 0px 1px 3px 1px rgba(0, 0, 0, 0.15);\n",
              "      filter: drop-shadow(0px 1px 2px rgba(0, 0, 0, 0.3));\n",
              "      fill: #FFFFFF;\n",
              "    }\n",
              "  </style>\n",
              "\n",
              "    <script>\n",
              "      const buttonEl =\n",
              "        document.querySelector('#df-f0f29199-5ab4-4b43-a308-d3cbc79e9288 button.colab-df-convert');\n",
              "      buttonEl.style.display =\n",
              "        google.colab.kernel.accessAllowed ? 'block' : 'none';\n",
              "\n",
              "      async function convertToInteractive(key) {\n",
              "        const element = document.querySelector('#df-f0f29199-5ab4-4b43-a308-d3cbc79e9288');\n",
              "        const dataTable =\n",
              "          await google.colab.kernel.invokeFunction('convertToInteractive',\n",
              "                                                    [key], {});\n",
              "        if (!dataTable) return;\n",
              "\n",
              "        const docLinkHtml = 'Like what you see? Visit the ' +\n",
              "          '<a target=\"_blank\" href=https://colab.research.google.com/notebooks/data_table.ipynb>data table notebook</a>'\n",
              "          + ' to learn more about interactive tables.';\n",
              "        element.innerHTML = '';\n",
              "        dataTable['output_type'] = 'display_data';\n",
              "        await google.colab.output.renderOutput(dataTable, element);\n",
              "        const docLink = document.createElement('div');\n",
              "        docLink.innerHTML = docLinkHtml;\n",
              "        element.appendChild(docLink);\n",
              "      }\n",
              "    </script>\n",
              "  </div>\n",
              "\n",
              "\n",
              "    <div id=\"df-c16c1891-2e2f-4de5-959e-82e8b8e157e4\">\n",
              "      <button class=\"colab-df-quickchart\" onclick=\"quickchart('df-c16c1891-2e2f-4de5-959e-82e8b8e157e4')\"\n",
              "                title=\"Suggest charts\"\n",
              "                style=\"display:none;\">\n",
              "\n",
              "<svg xmlns=\"http://www.w3.org/2000/svg\" height=\"24px\"viewBox=\"0 0 24 24\"\n",
              "     width=\"24px\">\n",
              "    <g>\n",
              "        <path d=\"M19 3H5c-1.1 0-2 .9-2 2v14c0 1.1.9 2 2 2h14c1.1 0 2-.9 2-2V5c0-1.1-.9-2-2-2zM9 17H7v-7h2v7zm4 0h-2V7h2v10zm4 0h-2v-4h2v4z\"/>\n",
              "    </g>\n",
              "</svg>\n",
              "      </button>\n",
              "\n",
              "<style>\n",
              "  .colab-df-quickchart {\n",
              "      --bg-color: #E8F0FE;\n",
              "      --fill-color: #1967D2;\n",
              "      --hover-bg-color: #E2EBFA;\n",
              "      --hover-fill-color: #174EA6;\n",
              "      --disabled-fill-color: #AAA;\n",
              "      --disabled-bg-color: #DDD;\n",
              "  }\n",
              "\n",
              "  [theme=dark] .colab-df-quickchart {\n",
              "      --bg-color: #3B4455;\n",
              "      --fill-color: #D2E3FC;\n",
              "      --hover-bg-color: #434B5C;\n",
              "      --hover-fill-color: #FFFFFF;\n",
              "      --disabled-bg-color: #3B4455;\n",
              "      --disabled-fill-color: #666;\n",
              "  }\n",
              "\n",
              "  .colab-df-quickchart {\n",
              "    background-color: var(--bg-color);\n",
              "    border: none;\n",
              "    border-radius: 50%;\n",
              "    cursor: pointer;\n",
              "    display: none;\n",
              "    fill: var(--fill-color);\n",
              "    height: 32px;\n",
              "    padding: 0;\n",
              "    width: 32px;\n",
              "  }\n",
              "\n",
              "  .colab-df-quickchart:hover {\n",
              "    background-color: var(--hover-bg-color);\n",
              "    box-shadow: 0 1px 2px rgba(60, 64, 67, 0.3), 0 1px 3px 1px rgba(60, 64, 67, 0.15);\n",
              "    fill: var(--button-hover-fill-color);\n",
              "  }\n",
              "\n",
              "  .colab-df-quickchart-complete:disabled,\n",
              "  .colab-df-quickchart-complete:disabled:hover {\n",
              "    background-color: var(--disabled-bg-color);\n",
              "    fill: var(--disabled-fill-color);\n",
              "    box-shadow: none;\n",
              "  }\n",
              "\n",
              "  .colab-df-spinner {\n",
              "    border: 2px solid var(--fill-color);\n",
              "    border-color: transparent;\n",
              "    border-bottom-color: var(--fill-color);\n",
              "    animation:\n",
              "      spin 1s steps(1) infinite;\n",
              "  }\n",
              "\n",
              "  @keyframes spin {\n",
              "    0% {\n",
              "      border-color: transparent;\n",
              "      border-bottom-color: var(--fill-color);\n",
              "      border-left-color: var(--fill-color);\n",
              "    }\n",
              "    20% {\n",
              "      border-color: transparent;\n",
              "      border-left-color: var(--fill-color);\n",
              "      border-top-color: var(--fill-color);\n",
              "    }\n",
              "    30% {\n",
              "      border-color: transparent;\n",
              "      border-left-color: var(--fill-color);\n",
              "      border-top-color: var(--fill-color);\n",
              "      border-right-color: var(--fill-color);\n",
              "    }\n",
              "    40% {\n",
              "      border-color: transparent;\n",
              "      border-right-color: var(--fill-color);\n",
              "      border-top-color: var(--fill-color);\n",
              "    }\n",
              "    60% {\n",
              "      border-color: transparent;\n",
              "      border-right-color: var(--fill-color);\n",
              "    }\n",
              "    80% {\n",
              "      border-color: transparent;\n",
              "      border-right-color: var(--fill-color);\n",
              "      border-bottom-color: var(--fill-color);\n",
              "    }\n",
              "    90% {\n",
              "      border-color: transparent;\n",
              "      border-bottom-color: var(--fill-color);\n",
              "    }\n",
              "  }\n",
              "</style>\n",
              "\n",
              "      <script>\n",
              "        async function quickchart(key) {\n",
              "          const quickchartButtonEl =\n",
              "            document.querySelector('#' + key + ' button');\n",
              "          quickchartButtonEl.disabled = true;  // To prevent multiple clicks.\n",
              "          quickchartButtonEl.classList.add('colab-df-spinner');\n",
              "          try {\n",
              "            const charts = await google.colab.kernel.invokeFunction(\n",
              "                'suggestCharts', [key], {});\n",
              "          } catch (error) {\n",
              "            console.error('Error during call to suggestCharts:', error);\n",
              "          }\n",
              "          quickchartButtonEl.classList.remove('colab-df-spinner');\n",
              "          quickchartButtonEl.classList.add('colab-df-quickchart-complete');\n",
              "        }\n",
              "        (() => {\n",
              "          let quickchartButtonEl =\n",
              "            document.querySelector('#df-c16c1891-2e2f-4de5-959e-82e8b8e157e4 button');\n",
              "          quickchartButtonEl.style.display =\n",
              "            google.colab.kernel.accessAllowed ? 'block' : 'none';\n",
              "        })();\n",
              "      </script>\n",
              "    </div>\n",
              "\n",
              "    </div>\n",
              "  </div>\n"
            ],
            "application/vnd.google.colaboratory.intrinsic+json": {
              "type": "dataframe",
              "variable_name": "regression_data",
              "summary": "{\n  \"name\": \"regression_data\",\n  \"rows\": 4001,\n  \"fields\": [\n    {\n      \"column\": \"Age\",\n      \"properties\": {\n        \"dtype\": \"number\",\n        \"std\": 8.991286445332205,\n        \"min\": 30.0,\n        \"max\": 82.0,\n        \"num_unique_values\": 41,\n        \"samples\": [\n          42.0,\n          43.0,\n          65.0\n        ],\n        \"semantic_type\": \"\",\n        \"description\": \"\"\n      }\n    },\n    {\n      \"column\": \"Sex\",\n      \"properties\": {\n        \"dtype\": \"number\",\n        \"std\": 0,\n        \"min\": 0,\n        \"max\": 0,\n        \"num_unique_values\": 1,\n        \"samples\": [\n          0\n        ],\n        \"semantic_type\": \"\",\n        \"description\": \"\"\n      }\n    },\n    {\n      \"column\": \"T_Stage\",\n      \"properties\": {\n        \"dtype\": \"number\",\n        \"std\": 0,\n        \"min\": 0,\n        \"max\": 3,\n        \"num_unique_values\": 4,\n        \"samples\": [\n          1\n        ],\n        \"semantic_type\": \"\",\n        \"description\": \"\"\n      }\n    },\n    {\n      \"column\": \"N_Stage\",\n      \"properties\": {\n        \"dtype\": \"number\",\n        \"std\": 0,\n        \"min\": 0,\n        \"max\": 2,\n        \"num_unique_values\": 3,\n        \"samples\": [\n          0\n        ],\n        \"semantic_type\": \"\",\n        \"description\": \"\"\n      }\n    },\n    {\n      \"column\": \"Differentiated\",\n      \"properties\": {\n        \"dtype\": \"number\",\n        \"std\": 1,\n        \"min\": 0,\n        \"max\": 3,\n        \"num_unique_values\": 4,\n        \"samples\": [\n          0\n        ],\n        \"semantic_type\": \"\",\n        \"description\": \"\"\n      }\n    },\n    {\n      \"column\": \"Grade\",\n      \"properties\": {\n        \"dtype\": \"number\",\n        \"std\": 0.637496489838438,\n        \"min\": 1.0,\n        \"max\": 4.0,\n        \"num_unique_values\": 4,\n        \"samples\": [\n          2.0\n        ],\n        \"semantic_type\": \"\",\n        \"description\": \"\"\n      }\n    },\n    {\n      \"column\": \"A_Stage\",\n      \"properties\": {\n        \"dtype\": \"number\",\n        \"std\": 0,\n        \"min\": 0,\n        \"max\": 1,\n        \"num_unique_values\": 2,\n        \"samples\": [\n          0\n        ],\n        \"semantic_type\": \"\",\n        \"description\": \"\"\n      }\n    },\n    {\n      \"column\": \"Tumor_Size\",\n      \"properties\": {\n        \"dtype\": \"number\",\n        \"std\": 17.732788160100995,\n        \"min\": 1.0,\n        \"max\": 71.0,\n        \"num_unique_values\": 71,\n        \"samples\": [\n          17.0\n        ],\n        \"semantic_type\": \"\",\n        \"description\": \"\"\n      }\n    },\n    {\n      \"column\": \"Estrogen_Status\",\n      \"properties\": {\n        \"dtype\": \"number\",\n        \"std\": 0,\n        \"min\": 0,\n        \"max\": 1,\n        \"num_unique_values\": 2,\n        \"samples\": [\n          0\n        ],\n        \"semantic_type\": \"\",\n        \"description\": \"\"\n      }\n    },\n    {\n      \"column\": \"Progesterone_Status\",\n      \"properties\": {\n        \"dtype\": \"number\",\n        \"std\": 0,\n        \"min\": 0,\n        \"max\": 1,\n        \"num_unique_values\": 2,\n        \"samples\": [\n          0\n        ],\n        \"semantic_type\": \"\",\n        \"description\": \"\"\n      }\n    },\n    {\n      \"column\": \"Regional_Node_Examined\",\n      \"properties\": {\n        \"dtype\": \"number\",\n        \"std\": 7.6816674456990475,\n        \"min\": 1.0,\n        \"max\": 34.0,\n        \"num_unique_values\": 34,\n        \"samples\": [\n          4.0\n        ],\n        \"semantic_type\": \"\",\n        \"description\": \"\"\n      }\n    },\n    {\n      \"column\": \"Regional_Node_Positive\",\n      \"properties\": {\n        \"dtype\": \"number\",\n        \"std\": 3.285536609489678,\n        \"min\": 1.0,\n        \"max\": 11.0,\n        \"num_unique_values\": 11,\n        \"samples\": [\n          3.0\n        ],\n        \"semantic_type\": \"\",\n        \"description\": \"\"\n      }\n    },\n    {\n      \"column\": \"Survival_Months\",\n      \"properties\": {\n        \"dtype\": \"number\",\n        \"std\": 22.947706196809225,\n        \"min\": 5.0,\n        \"max\": 141.0,\n        \"num_unique_values\": 104,\n        \"samples\": [\n          39.0\n        ],\n        \"semantic_type\": \"\",\n        \"description\": \"\"\n      }\n    }\n  ]\n}"
            }
          },
          "metadata": {},
          "execution_count": 206
        }
      ]
    },
    {
      "cell_type": "code",
      "source": [
        "print(\"Classification Dataset:\\n\", classification_data.head())\n",
        "print(\"\\nRegression Dataset:\\n\", regression_data.head())\n"
      ],
      "metadata": {
        "id": "Z9jOC3qxeWPP",
        "colab": {
          "base_uri": "https://localhost:8080/",
          "height": 0
        },
        "outputId": "71bb2c40-f7a6-4db2-a9a3-cfb645ec50f6"
      },
      "execution_count": 207,
      "outputs": [
        {
          "output_type": "stream",
          "name": "stdout",
          "text": [
            "Classification Dataset:\n",
            "     Age  Sex  T_Stage  N_Stage  Differentiated  Grade  A_Stage  Tumor_Size  \\\n",
            "0  68.0    0        0        0               1    3.0        1         4.0   \n",
            "1  50.0    0        1        1               0    2.0        1        35.0   \n",
            "2  58.0    0        2        2               0    2.0        1        63.0   \n",
            "3  58.0    0        0        0               1    3.0        1        18.0   \n",
            "4  47.0    0        1        0               1    3.0        1        41.0   \n",
            "\n",
            "   Estrogen_Status  Progesterone_Status  Regional_Node_Examined  \\\n",
            "0                1                    1                    24.0   \n",
            "1                1                    1                    14.0   \n",
            "2                1                    1                    14.0   \n",
            "3                1                    1                     2.0   \n",
            "4                1                    1                     3.0   \n",
            "\n",
            "   Regional_Node_Positive  Mortality_Status  \n",
            "0                     1.0                 0  \n",
            "1                     5.0                 0  \n",
            "2                     7.0                 0  \n",
            "3                     1.0                 0  \n",
            "4                     1.0                 0  \n",
            "\n",
            "Regression Dataset:\n",
            "     Age  Sex  T_Stage  N_Stage  Differentiated  Grade  A_Stage  Tumor_Size  \\\n",
            "0  68.0    0        0        0               1    3.0        1         4.0   \n",
            "1  50.0    0        1        1               0    2.0        1        35.0   \n",
            "2  58.0    0        2        2               0    2.0        1        63.0   \n",
            "3  58.0    0        0        0               1    3.0        1        18.0   \n",
            "4  47.0    0        1        0               1    3.0        1        41.0   \n",
            "\n",
            "   Estrogen_Status  Progesterone_Status  Regional_Node_Examined  \\\n",
            "0                1                    1                    24.0   \n",
            "1                1                    1                    14.0   \n",
            "2                1                    1                    14.0   \n",
            "3                1                    1                     2.0   \n",
            "4                1                    1                     3.0   \n",
            "\n",
            "   Regional_Node_Positive  Survival_Months  \n",
            "0                     1.0             60.0  \n",
            "1                     5.0             62.0  \n",
            "2                     7.0             75.0  \n",
            "3                     1.0             84.0  \n",
            "4                     1.0             50.0  \n"
          ]
        }
      ]
    },
    {
      "cell_type": "code",
      "source": [
        "#Basic descriptive statistics for retained numerical features\n",
        "print(\"Descriptive statistics for retained numerical features:\\n\")\n",
        "print(classification_data.describe())\n"
      ],
      "metadata": {
        "colab": {
          "base_uri": "https://localhost:8080/",
          "height": 0
        },
        "id": "v91-IjOl8qQW",
        "outputId": "dd01b843-f7fc-49a5-9ead-0c8ca80c8e7e"
      },
      "execution_count": 208,
      "outputs": [
        {
          "output_type": "stream",
          "name": "stdout",
          "text": [
            "Descriptive statistics for retained numerical features:\n",
            "\n",
            "               Age     Sex      T_Stage      N_Stage  Differentiated  \\\n",
            "count  4001.000000  4001.0  4001.000000  4001.000000     4001.000000   \n",
            "mean     53.995751     0.0     0.784054     0.438890        0.687828   \n",
            "std       8.991286     0.0     0.765739     0.694498        1.014039   \n",
            "min      30.000000     0.0     0.000000     0.000000        0.000000   \n",
            "25%      47.000000     0.0     0.000000     0.000000        0.000000   \n",
            "50%      54.000000     0.0     1.000000     0.000000        0.000000   \n",
            "75%      61.000000     0.0     1.000000     1.000000        1.000000   \n",
            "max      82.000000     0.0     3.000000     2.000000        3.000000   \n",
            "\n",
            "             Grade      A_Stage   Tumor_Size  Estrogen_Status  \\\n",
            "count  4001.000000  4001.000000  4001.000000      4001.000000   \n",
            "mean      2.151962     0.977006    29.293177         0.932767   \n",
            "std       0.637496     0.149904    17.732788         0.250457   \n",
            "min       1.000000     0.000000     1.000000         0.000000   \n",
            "25%       2.000000     1.000000    16.000000         1.000000   \n",
            "50%       2.000000     1.000000    25.000000         1.000000   \n",
            "75%       3.000000     1.000000    38.000000         1.000000   \n",
            "max       4.000000     1.000000    71.000000         1.000000   \n",
            "\n",
            "       Progesterone_Status  Regional_Node_Examined  Regional_Node_Positive  \\\n",
            "count          4001.000000             4001.000000             4001.000000   \n",
            "mean              0.826793               14.250937                3.569358   \n",
            "std               0.378473                7.681667                3.285537   \n",
            "min               0.000000                1.000000                1.000000   \n",
            "25%               1.000000                9.000000                1.000000   \n",
            "50%               1.000000               14.000000                2.000000   \n",
            "75%               1.000000               19.000000                5.000000   \n",
            "max               1.000000               34.000000               11.000000   \n",
            "\n",
            "       Mortality_Status  \n",
            "count       4001.000000  \n",
            "mean           0.153712  \n",
            "std            0.360717  \n",
            "min            0.000000  \n",
            "25%            0.000000  \n",
            "50%            0.000000  \n",
            "75%            0.000000  \n",
            "max            1.000000  \n"
          ]
        }
      ]
    },
    {
      "cell_type": "markdown",
      "source": [],
      "metadata": {
        "id": "PfTu2sa1lqDA"
      }
    }
  ]
}